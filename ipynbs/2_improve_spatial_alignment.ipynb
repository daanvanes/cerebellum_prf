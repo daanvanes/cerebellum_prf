{
 "cells": [
  {
   "cell_type": "markdown",
   "metadata": {},
   "source": [
    "# improve across-session alignment\n",
    "\n",
    "Problem: after fMRIprep, the sessions are aligned to MNI. However, they do not nicely align across sessions. \n",
    "\n",
    "Solution: pick a target session, and compute warpfield from average over runs and time from other session(s) to target session."
   ]
  },
  {
   "cell_type": "code",
   "execution_count": 1,
   "metadata": {
    "collapsed": false
   },
   "outputs": [],
   "source": [
    "import os\n",
    "import glob\n",
    "import numpy as np\n",
    "import nibabel as nb\n",
    "from nipype.interfaces import fsl\n",
    "from joblib import Parallel, delayed\n"
   ]
  },
  {
   "cell_type": "code",
   "execution_count": 2,
   "metadata": {
    "collapsed": true
   },
   "outputs": [],
   "source": [
    "# setup dirs\n",
    "home_dir = '/home/shared/2018/visual/cerebellum_prf/'\n",
    "der_dir = os.path.join(home_dir,'derivatives')\n",
    "out_dir = os.path.join(home_dir,'derivatives','pp')\n",
    "res_out_dir = os.path.join(out_dir,'res')\n",
    "\n",
    "# setup subs\n",
    "subs = ['02']\n",
    "target_session = '03'\n",
    "source_sessions = {\n",
    "    '01':['01','03','02'],\n",
    "    '02':['01','02','03','04'],\n",
    "    '03':['01','02','03']\n",
    "}\n",
    "space = 'MNI152NLin2009cAsym' # 'T1w' \n"
   ]
  },
  {
   "cell_type": "code",
   "execution_count": 3,
   "metadata": {
    "collapsed": true
   },
   "outputs": [],
   "source": [
    "def load_data(fn):\n",
    "    img = nb.load(fn)\n",
    "    data = img.get_data()\n",
    "\n",
    "    return data\n",
    "    "
   ]
  },
  {
   "cell_type": "code",
   "execution_count": 4,
   "metadata": {
    "collapsed": true
   },
   "outputs": [],
   "source": [
    "def compute_warp(fn,target_fn,postFix='fnirted'):\n",
    "    \n",
    "    flt = fsl.FNIRT()\n",
    "    flt.inputs.in_file = fn\n",
    "    flt.inputs.ref_file = target_fn\n",
    "    flt.inputs.warped_file = fn.replace('.nii.gz','_%s.nii.gz'%postFix)\n",
    "    flt.inputs.field_file = fn.replace('.nii.gz','_%s_field.nii.gz'%postFix)\n",
    "\n",
    "\n",
    "    flt.run()"
   ]
  },
  {
   "cell_type": "code",
   "execution_count": 5,
   "metadata": {
    "collapsed": true
   },
   "outputs": [],
   "source": [
    "def apply_warp(fn,target_fn,field_file):\n",
    "    \n",
    "    flt = fsl.ApplyWarp()\n",
    "    flt.inputs.ref_file = target_fn\n",
    "    flt.inputs.in_file = fn\n",
    "    flt.inputs.out_file = fn.replace('.nii.gz','_fnirted.nii.gz')\n",
    "    flt.inputs.field_file = field_file\n",
    "    flt.run()"
   ]
  },
  {
   "cell_type": "markdown",
   "metadata": {},
   "source": [
    "### step 1: create average over runs and time for each session"
   ]
  },
  {
   "cell_type": "code",
   "execution_count": 6,
   "metadata": {
    "collapsed": false
   },
   "outputs": [
    {
     "name": "stdout",
     "output_type": "stream",
     "text": [
      "now computing run and time avg for sub 02, ses 01\n"
     ]
    },
    {
     "name": "stderr",
     "output_type": "stream",
     "text": [
      "[Parallel(n_jobs=13)]: Using backend LokyBackend with 13 concurrent workers.\n",
      "[Parallel(n_jobs=13)]: Done   2 out of  13 | elapsed:   22.1s remaining:  2.0min\n",
      "[Parallel(n_jobs=13)]: Done   4 out of  13 | elapsed:   25.6s remaining:   57.6s\n",
      "[Parallel(n_jobs=13)]: Done   6 out of  13 | elapsed:   29.0s remaining:   33.9s\n",
      "[Parallel(n_jobs=13)]: Done   8 out of  13 | elapsed:   31.9s remaining:   19.9s\n",
      "[Parallel(n_jobs=13)]: Done  10 out of  13 | elapsed:   34.8s remaining:   10.4s\n",
      "[Parallel(n_jobs=13)]: Done  13 out of  13 | elapsed:   39.3s finished\n"
     ]
    },
    {
     "name": "stdout",
     "output_type": "stream",
     "text": [
      "now computing mean over runs\n",
      "now computing mean over time\n",
      "now computing run and time avg for sub 02, ses 02\n"
     ]
    },
    {
     "name": "stderr",
     "output_type": "stream",
     "text": [
      "[Parallel(n_jobs=8)]: Using backend LokyBackend with 8 concurrent workers.\n",
      "[Parallel(n_jobs=8)]: Done   2 out of   8 | elapsed:   33.0s remaining:  1.6min\n",
      "[Parallel(n_jobs=8)]: Done   3 out of   8 | elapsed:   34.5s remaining:   57.4s\n",
      "[Parallel(n_jobs=8)]: Done   4 out of   8 | elapsed:   36.0s remaining:   36.0s\n",
      "[Parallel(n_jobs=8)]: Done   5 out of   8 | elapsed:   37.6s remaining:   22.6s\n",
      "[Parallel(n_jobs=8)]: Done   6 out of   8 | elapsed:   39.4s remaining:   13.1s\n",
      "[Parallel(n_jobs=8)]: Done   8 out of   8 | elapsed:   43.0s remaining:    0.0s\n",
      "[Parallel(n_jobs=8)]: Done   8 out of   8 | elapsed:   43.0s finished\n"
     ]
    },
    {
     "name": "stdout",
     "output_type": "stream",
     "text": [
      "now computing mean over runs\n",
      "now computing mean over time\n",
      "now computing run and time avg for sub 02, ses 03\n"
     ]
    },
    {
     "name": "stderr",
     "output_type": "stream",
     "text": [
      "[Parallel(n_jobs=10)]: Using backend LokyBackend with 10 concurrent workers.\n",
      "[Parallel(n_jobs=10)]: Done   3 out of  10 | elapsed:   23.3s remaining:   54.4s\n",
      "[Parallel(n_jobs=10)]: Done   5 out of  10 | elapsed:   26.4s remaining:   26.4s\n",
      "[Parallel(n_jobs=10)]: Done   7 out of  10 | elapsed:   29.6s remaining:   12.7s\n",
      "[Parallel(n_jobs=10)]: Done  10 out of  10 | elapsed:   33.9s finished\n"
     ]
    },
    {
     "name": "stdout",
     "output_type": "stream",
     "text": [
      "now computing mean over runs\n",
      "now computing mean over time\n",
      "now computing run and time avg for sub 02, ses 04\n"
     ]
    },
    {
     "name": "stderr",
     "output_type": "stream",
     "text": [
      "[Parallel(n_jobs=15)]: Using backend LokyBackend with 15 concurrent workers.\n",
      "[Parallel(n_jobs=15)]: Done   2 out of  15 | elapsed:   32.5s remaining:  3.5min\n",
      "[Parallel(n_jobs=15)]: Done   4 out of  15 | elapsed:   35.9s remaining:  1.6min\n",
      "[Parallel(n_jobs=15)]: Done   6 out of  15 | elapsed:   39.2s remaining:   58.8s\n",
      "[Parallel(n_jobs=15)]: Done   8 out of  15 | elapsed:   42.0s remaining:   36.7s\n",
      "[Parallel(n_jobs=15)]: Done  10 out of  15 | elapsed:   45.0s remaining:   22.5s\n",
      "[Parallel(n_jobs=15)]: Done  12 out of  15 | elapsed:   48.3s remaining:   12.1s\n",
      "[Parallel(n_jobs=15)]: Done  15 out of  15 | elapsed:   52.7s finished\n"
     ]
    },
    {
     "name": "stdout",
     "output_type": "stream",
     "text": [
      "now computing mean over runs\n",
      "now computing mean over time\n"
     ]
    }
   ],
   "source": [
    "# # create avg files\n",
    "for sub in subs:\n",
    "    for ses in source_sessions[sub]:\n",
    "        print 'now computing run and time avg for sub %s, ses %s'%(sub,ses)\n",
    "\n",
    "        sj_res_out_dir = os.path.join(res_out_dir,'sub-%s'%sub)\n",
    "\n",
    "        fns = sorted(glob.glob(os.path.join(sj_res_out_dir,'*sub-%s_ses-%s*bold_space-%s_preproc_resampled.nii.gz'%(sub,ses,space))))\n",
    "\n",
    "        all_data = Parallel(n_jobs=len(fns),verbose=9)(delayed(load_data)(fn)  for fn in fns)\n",
    "        \n",
    "        sample_img = nb.load(fns[0])\n",
    "        \n",
    "        print 'now computing mean over runs'\n",
    "        avg_over_runs = np.nanmean(all_data,axis=0)\n",
    "        new_img = nb.Nifti1Image(avg_over_runs,affine=sample_img.affine,header=sample_img.header)\n",
    "        out_fn = os.path.join(sj_res_out_dir,'mean_over_runs_ses_%s.nii.gz'%ses)\n",
    "        nb.save(new_img,out_fn)\n",
    "\n",
    "        print 'now computing mean over time'\n",
    "        avg_over_time = np.nanmean(avg_over_runs,axis=-1)\n",
    "        new_img = nb.Nifti1Image(avg_over_time,affine=sample_img.affine,header=sample_img.header)\n",
    "        out_fn = os.path.join(sj_res_out_dir,'mean_over_runs_timemean_ses_%s.nii.gz'%ses)\n",
    "        nb.save(new_img,out_fn)\n"
   ]
  },
  {
   "cell_type": "markdown",
   "metadata": {},
   "source": [
    "### step 2: compute warpfield from source to target session\n",
    "\n",
    "Let's do this for all source and target sessions simultaneously"
   ]
  },
  {
   "cell_type": "code",
   "execution_count": 7,
   "metadata": {
    "collapsed": false
   },
   "outputs": [
    {
     "name": "stderr",
     "output_type": "stream",
     "text": [
      "[Parallel(n_jobs=4)]: Using backend LokyBackend with 4 concurrent workers.\n",
      "[Parallel(n_jobs=4)]: Done   2 out of   4 | elapsed:  4.3min remaining:  4.3min\n",
      "[Parallel(n_jobs=4)]: Done   4 out of   4 | elapsed:  6.4min remaining:    0.0s\n",
      "[Parallel(n_jobs=4)]: Done   4 out of   4 | elapsed:  6.4min finished\n"
     ]
    },
    {
     "data": {
      "text/plain": [
       "[None, None, None, None]"
      ]
     },
     "execution_count": 7,
     "metadata": {},
     "output_type": "execute_result"
    }
   ],
   "source": [
    "all_source_fns = []\n",
    "all_target_fns = []\n",
    "for sub in subs:\n",
    "    sj_res_out_dir = os.path.join(res_out_dir,'sub-%s'%sub)\n",
    "    target_fn = os.path.join(sj_res_out_dir,'mean_over_runs_timemean_ses_%s.nii.gz'%target_session)\n",
    "    \n",
    "    for ses in source_sessions[sub]:\n",
    "        \n",
    "        source_fn = os.path.join(sj_res_out_dir,'mean_over_runs_timemean_ses_%s.nii.gz'%ses)\n",
    "        all_source_fns.append(source_fn)\n",
    "        all_target_fns.append(target_fn)\n",
    "\n",
    "        \n",
    "Parallel(n_jobs=len(all_source_fns),verbose=9)(delayed(compute_warp)(all_source_fns[i],all_target_fns[i])  for i in range(len(all_source_fns)))\n"
   ]
  },
  {
   "cell_type": "markdown",
   "metadata": {},
   "source": [
    "### step 3: apply the appropriate warpfield to full timecourse imgs"
   ]
  },
  {
   "cell_type": "code",
   "execution_count": 8,
   "metadata": {
    "collapsed": false
   },
   "outputs": [
    {
     "name": "stderr",
     "output_type": "stream",
     "text": [
      "[Parallel(n_jobs=13)]: Using backend LokyBackend with 13 concurrent workers.\n",
      "[Parallel(n_jobs=13)]: Done   2 out of  13 | elapsed:   52.7s remaining:  4.8min\n",
      "[Parallel(n_jobs=13)]: Done   4 out of  13 | elapsed:  1.1min remaining:  2.5min\n",
      "[Parallel(n_jobs=13)]: Done   6 out of  13 | elapsed:  1.1min remaining:  1.3min\n",
      "[Parallel(n_jobs=13)]: Done   8 out of  13 | elapsed:  1.2min remaining:   43.8s\n",
      "[Parallel(n_jobs=13)]: Done  10 out of  13 | elapsed:  1.2min remaining:   21.4s\n",
      "[Parallel(n_jobs=13)]: Done  13 out of  13 | elapsed:  1.2min finished\n",
      "[Parallel(n_jobs=8)]: Using backend LokyBackend with 8 concurrent workers.\n",
      "[Parallel(n_jobs=8)]: Done   2 out of   8 | elapsed:   46.0s remaining:  2.3min\n",
      "[Parallel(n_jobs=8)]: Done   3 out of   8 | elapsed:   47.1s remaining:  1.3min\n",
      "[Parallel(n_jobs=8)]: Done   4 out of   8 | elapsed:   47.1s remaining:   47.1s\n",
      "[Parallel(n_jobs=8)]: Done   5 out of   8 | elapsed:   47.6s remaining:   28.5s\n",
      "[Parallel(n_jobs=8)]: Done   6 out of   8 | elapsed:   48.1s remaining:   16.0s\n",
      "[Parallel(n_jobs=8)]: Done   8 out of   8 | elapsed:   48.1s remaining:    0.0s\n",
      "[Parallel(n_jobs=8)]: Done   8 out of   8 | elapsed:   48.1s finished\n",
      "[Parallel(n_jobs=10)]: Using backend LokyBackend with 10 concurrent workers.\n",
      "[Parallel(n_jobs=10)]: Done   3 out of  10 | elapsed:   52.6s remaining:  2.0min\n",
      "[Parallel(n_jobs=10)]: Done   5 out of  10 | elapsed:   53.6s remaining:   53.6s\n",
      "[Parallel(n_jobs=10)]: Done   7 out of  10 | elapsed:   54.7s remaining:   23.4s\n",
      "[Parallel(n_jobs=10)]: Done  10 out of  10 | elapsed:   55.9s finished\n",
      "[Parallel(n_jobs=15)]: Using backend LokyBackend with 15 concurrent workers.\n",
      "[Parallel(n_jobs=15)]: Done   2 out of  15 | elapsed:   56.7s remaining:  6.1min\n",
      "[Parallel(n_jobs=15)]: Done   4 out of  15 | elapsed:   59.2s remaining:  2.7min\n",
      "[Parallel(n_jobs=15)]: Done   6 out of  15 | elapsed:  1.0min remaining:  1.6min\n",
      "[Parallel(n_jobs=15)]: Done   8 out of  15 | elapsed:  1.1min remaining:   57.7s\n",
      "[Parallel(n_jobs=15)]: Done  10 out of  15 | elapsed:  1.2min remaining:   35.8s\n",
      "[Parallel(n_jobs=15)]: Done  12 out of  15 | elapsed:  1.2min remaining:   18.3s\n",
      "[Parallel(n_jobs=15)]: Done  15 out of  15 | elapsed:  1.2min finished\n"
     ]
    }
   ],
   "source": [
    "for sub in subs:\n",
    "    \n",
    "    sj_res_out_dir = os.path.join(res_out_dir,'sub-%s'%sub)\n",
    "\n",
    "    target_fn = os.path.join(sj_res_out_dir,'mean_over_runs_timemean_ses_%s.nii.gz'%target_session)\n",
    "    \n",
    "    for ses in source_sessions[sub]:\n",
    "\n",
    "        field_file = os.path.join(sj_res_out_dir,'mean_over_runs_timemean_ses_%s_fnirted_field.nii.gz'%ses)\n",
    "        \n",
    "        fns = sorted(glob.glob(os.path.join(sj_res_out_dir,'sub-%s_ses-%s*bold_space-%s_preproc_resampled.nii.gz'%(sub,ses,space))))\n",
    "\n",
    "        Parallel(n_jobs=len(fns),verbose=9)(delayed(apply_warp)(fn,target_fn,field_file) for fn in fns)\n"
   ]
  },
  {
   "cell_type": "code",
   "execution_count": null,
   "metadata": {
    "collapsed": true
   },
   "outputs": [],
   "source": []
  }
 ],
 "metadata": {
  "kernelspec": {
   "display_name": "Python [analysis]",
   "language": "python",
   "name": "Python [analysis]"
  },
  "language_info": {
   "codemirror_mode": {
    "name": "ipython",
    "version": 2
   },
   "file_extension": ".py",
   "mimetype": "text/x-python",
   "name": "python",
   "nbconvert_exporter": "python",
   "pygments_lexer": "ipython2",
   "version": "2.7.12"
  }
 },
 "nbformat": 4,
 "nbformat_minor": 0
}
