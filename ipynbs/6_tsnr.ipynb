{
 "cells": [
  {
   "cell_type": "markdown",
   "metadata": {
    "collapsed": true
   },
   "source": [
    "# compute tSNR for each run"
   ]
  },
  {
   "cell_type": "code",
   "execution_count": null,
   "metadata": {
    "collapsed": true
   },
   "outputs": [],
   "source": [
    "import os\n",
    "import glob\n",
    "import numpy as np\n",
    "import nibabel as nb\n",
    "from nipype.interfaces import fsl\n",
    "import nipype.pipeline.engine as pe\n",
    "from joblib import Parallel, delayed\n",
    "\n"
   ]
  },
  {
   "cell_type": "code",
   "execution_count": 11,
   "metadata": {
    "collapsed": false
   },
   "outputs": [],
   "source": [
    "# setup dirs\n",
    "home_dir = '/home/shared/2018/visual/cerebellum_prf/'\n",
    "der_dir = os.path.join(home_dir,'derivatives')\n",
    "out_dir = os.path.join(home_dir,'derivatives','pp')\n",
    "tsnr_out_dir = os.path.join(out_dir,'tsnr')\n",
    "if not os.path.isdir(tsnr_out_dir): os.mkdir(tsnr_out_dir)\n",
    "\n",
    "# in_dir = os.path.join(out_dir,'ng')\n",
    "# in_postFix = '_resampled_fnirted_smoothed_sgtf_ng'\n",
    "\n",
    "\n",
    "in_dir = os.path.join(out_dir,'sgtf')\n",
    "in_postFix = '_resampled_fnirted_smoothed_sgtf'\n",
    "    \n",
    "subs = ['02','03']#,'02','03']\n",
    "sess = {\n",
    "    '01':['01','03','02'],\n",
    "    '02':['01','02','03','04'],\n",
    "    '03':['01','02','03']\n",
    "}\n",
    "\n",
    "TR = 1.5\n",
    "space = 'MNI152NLin2009cAsym' # 'T1w'"
   ]
  },
  {
   "cell_type": "code",
   "execution_count": 12,
   "metadata": {
    "collapsed": true
   },
   "outputs": [],
   "source": [
    "def compute_tsnr(in_dir,out_dir,fn):\n",
    "\n",
    "    out_fn = fn.replace(in_dir,out_dir).replace('.nii.gz','_tsnr.nii.gz')\n",
    "\n",
    "    if not os.path.isfile(out_fn):\n",
    "        \n",
    "        img = nb.load(fn)\n",
    "        data = img.get_data()\n",
    "        tsnr = np.mean(data,axis=-1)/np.std(data,axis=-1)\n",
    "        new_img = nb.Nifti1Image(tsnr,affine=img.affine,header=img.header)\n",
    "        nb.save(new_img,out_fn)\n",
    "\n"
   ]
  },
  {
   "cell_type": "code",
   "execution_count": 13,
   "metadata": {
    "collapsed": false
   },
   "outputs": [
    {
     "name": "stderr",
     "output_type": "stream",
     "text": [
      "[Parallel(n_jobs=10)]: Using backend LokyBackend with 10 concurrent workers.\n",
      "[Parallel(n_jobs=10)]: Done   2 out of  13 | elapsed:   25.3s remaining:  2.3min\n",
      "[Parallel(n_jobs=10)]: Done   4 out of  13 | elapsed:   26.2s remaining:   59.0s\n",
      "[Parallel(n_jobs=10)]: Done   6 out of  13 | elapsed:   27.0s remaining:   31.5s\n",
      "[Parallel(n_jobs=10)]: Done   8 out of  13 | elapsed:   27.8s remaining:   17.4s\n",
      "[Parallel(n_jobs=10)]: Done  10 out of  13 | elapsed:   29.5s remaining:    8.9s\n",
      "[Parallel(n_jobs=10)]: Done  13 out of  13 | elapsed:   39.4s finished\n",
      "[Parallel(n_jobs=10)]: Using backend LokyBackend with 10 concurrent workers.\n",
      "[Parallel(n_jobs=10)]: Done   2 out of   8 | elapsed:   17.6s remaining:   52.9s\n",
      "[Parallel(n_jobs=10)]: Done   3 out of   8 | elapsed:   17.7s remaining:   29.6s\n",
      "[Parallel(n_jobs=10)]: Done   4 out of   8 | elapsed:   17.8s remaining:   17.8s\n",
      "[Parallel(n_jobs=10)]: Done   5 out of   8 | elapsed:   18.0s remaining:   10.8s\n",
      "[Parallel(n_jobs=10)]: Done   6 out of   8 | elapsed:   19.6s remaining:    6.5s\n",
      "[Parallel(n_jobs=10)]: Done   8 out of   8 | elapsed:   20.1s remaining:    0.0s\n",
      "[Parallel(n_jobs=10)]: Done   8 out of   8 | elapsed:   20.1s finished\n",
      "[Parallel(n_jobs=10)]: Using backend LokyBackend with 10 concurrent workers.\n",
      "[Parallel(n_jobs=10)]: Done   3 out of  10 | elapsed:   27.3s remaining:  1.1min\n",
      "[Parallel(n_jobs=10)]: Done   5 out of  10 | elapsed:   27.5s remaining:   27.5s\n",
      "[Parallel(n_jobs=10)]: Done   7 out of  10 | elapsed:   27.8s remaining:   11.9s\n",
      "[Parallel(n_jobs=10)]: Done  10 out of  10 | elapsed:   28.0s finished\n",
      "[Parallel(n_jobs=10)]: Using backend LokyBackend with 10 concurrent workers.\n",
      "[Parallel(n_jobs=10)]: Done   2 out of  15 | elapsed:   21.8s remaining:  2.4min\n",
      "[Parallel(n_jobs=10)]: Done   4 out of  15 | elapsed:   22.1s remaining:  1.0min\n",
      "[Parallel(n_jobs=10)]: Done   6 out of  15 | elapsed:   22.4s remaining:   33.6s\n",
      "[Parallel(n_jobs=10)]: Done   8 out of  15 | elapsed:   23.7s remaining:   20.7s\n",
      "[Parallel(n_jobs=10)]: Done  10 out of  15 | elapsed:   23.7s remaining:   11.9s\n",
      "[Parallel(n_jobs=10)]: Done  12 out of  15 | elapsed:   40.4s remaining:   10.1s\n",
      "[Parallel(n_jobs=10)]: Done  15 out of  15 | elapsed:   40.9s finished\n",
      "[Parallel(n_jobs=10)]: Using backend LokyBackend with 10 concurrent workers.\n",
      "[Parallel(n_jobs=10)]: Done   3 out of  12 | elapsed:   20.4s remaining:  1.0min\n",
      "[Parallel(n_jobs=10)]: Done   5 out of  12 | elapsed:   23.9s remaining:   33.5s\n",
      "[Parallel(n_jobs=10)]: Done   7 out of  12 | elapsed:   27.0s remaining:   19.3s\n",
      "[Parallel(n_jobs=10)]: Done   9 out of  12 | elapsed:   27.5s remaining:    9.2s\n",
      "[Parallel(n_jobs=10)]: Done  12 out of  12 | elapsed:   36.9s finished\n",
      "[Parallel(n_jobs=10)]: Using backend LokyBackend with 10 concurrent workers.\n",
      "[Parallel(n_jobs=10)]: Done   3 out of  12 | elapsed:   18.6s remaining:   55.7s\n",
      "[Parallel(n_jobs=10)]: Done   5 out of  12 | elapsed:   18.8s remaining:   26.3s\n",
      "[Parallel(n_jobs=10)]: Done   7 out of  12 | elapsed:   18.9s remaining:   13.5s\n",
      "[Parallel(n_jobs=10)]: Done   9 out of  12 | elapsed:   19.3s remaining:    6.4s\n",
      "[Parallel(n_jobs=10)]: Done  12 out of  12 | elapsed:   31.9s finished\n",
      "[Parallel(n_jobs=10)]: Using backend LokyBackend with 10 concurrent workers.\n",
      "[Parallel(n_jobs=10)]: Done   3 out of  12 | elapsed:   24.9s remaining:  1.2min\n",
      "[Parallel(n_jobs=10)]: Done   5 out of  12 | elapsed:   25.0s remaining:   35.0s\n",
      "[Parallel(n_jobs=10)]: Done   7 out of  12 | elapsed:   25.1s remaining:   18.0s\n",
      "[Parallel(n_jobs=10)]: Done   9 out of  12 | elapsed:   25.5s remaining:    8.5s\n",
      "[Parallel(n_jobs=10)]: Done  12 out of  12 | elapsed:   39.3s finished\n"
     ]
    }
   ],
   "source": [
    "# tsnr\n",
    "sgtf_out_dir = os.path.join(out_dir,'sgtf')\n",
    "\n",
    "tsnr_out_dir = os.path.join(out_dir,'tsnr')\n",
    "if not os.path.isdir(tsnr_out_dir): os.mkdir(tsnr_out_dir)\n",
    "    \n",
    "for sub in subs:\n",
    "    \n",
    "    sj_tsnr_out_dir = os.path.join(tsnr_out_dir,'sub-%s'%sub)\n",
    "    if not os.path.isdir(sj_tsnr_out_dir): os.mkdir(sj_tsnr_out_dir)\n",
    "\n",
    "    sj_in_dir = os.path.join(in_dir,'sub-%s'%sub)\n",
    "    \n",
    "    for ses in sess[sub]:\n",
    "        fns = sorted(glob.glob(os.path.join(sj_in_dir,'sub-%s_ses-%s*bold_space-%s_preproc%s.nii.gz'%(sub,ses,space,in_postFix))))\n",
    "\n",
    "        Parallel(n_jobs=10,verbose=9)(delayed(compute_tsnr)(sj_in_dir,sj_tsnr_out_dir,fn) for fn in fns)\n",
    "\n",
    "\n"
   ]
  },
  {
   "cell_type": "code",
   "execution_count": null,
   "metadata": {
    "collapsed": true
   },
   "outputs": [],
   "source": []
  },
  {
   "cell_type": "code",
   "execution_count": null,
   "metadata": {
    "collapsed": true
   },
   "outputs": [],
   "source": []
  }
 ],
 "metadata": {
  "kernelspec": {
   "display_name": "Python [analysis]",
   "language": "python",
   "name": "Python [analysis]"
  },
  "language_info": {
   "codemirror_mode": {
    "name": "ipython",
    "version": 2
   },
   "file_extension": ".py",
   "mimetype": "text/x-python",
   "name": "python",
   "nbconvert_exporter": "python",
   "pygments_lexer": "ipython2",
   "version": "2.7.12"
  }
 },
 "nbformat": 4,
 "nbformat_minor": 0
}
