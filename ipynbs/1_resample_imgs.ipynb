{
 "cells": [
  {
   "cell_type": "markdown",
   "metadata": {},
   "source": [
    "# Resample imgs to MNI res\n",
    "\n",
    "Problem: the output resolution of fmriprep in MNI space is 97x115x97, while the HCP cerebellum data is in 91x109x91\n",
    "\n",
    "Solution: resample the imgs, so we won't have to deal with this later on"
   ]
  },
  {
   "cell_type": "code",
   "execution_count": 14,
   "metadata": {
    "collapsed": false
   },
   "outputs": [],
   "source": [
    "import os\n",
    "import glob\n",
    "import nibabel as nb\n",
    "from nilearn import image\n",
    "from joblib import Parallel, delayed"
   ]
  },
  {
   "cell_type": "code",
   "execution_count": 15,
   "metadata": {
    "collapsed": true
   },
   "outputs": [],
   "source": [
    "# setup dir\n",
    "home_dir = '/home/shared/2018/visual/cerebellum_prf/'\n",
    "der_dir = os.path.join(home_dir,'derivatives')\n",
    "out_dir = os.path.join(home_dir,'derivatives','pp')\n",
    "res_out_dir = os.path.join(out_dir,'res')\n",
    "if not os.path.isdir(res_out_dir): os.mkdir(res_out_dir)\n",
    "    \n",
    "subs = ['02']\n",
    "sess = {\n",
    "    '01':['01','02','03'],\n",
    "    '02':['01','02','03','04'],\n",
    "    '03':['01','02','03']\n",
    "}\n",
    "\n",
    "space = 'MNI152NLin2009cAsym' # 'T1w' \n",
    "\n"
   ]
  },
  {
   "cell_type": "code",
   "execution_count": 16,
   "metadata": {
    "collapsed": true
   },
   "outputs": [],
   "source": [
    "def resample_img(input_dir,sj_res_out_dir,fn,ref_img):\n",
    "    \n",
    "    out_fn = fn.replace(input_dir,sj_res_out_dir).replace('.nii.gz','_resampled.nii.gz')\n",
    "\n",
    "    if not os.path.isfile(out_fn):\n",
    "        new_img = image.resample_to_img(nb.load(fn), ref_img)\n",
    "        nb.save(new_img,out_fn)\n"
   ]
  },
  {
   "cell_type": "code",
   "execution_count": 18,
   "metadata": {
    "collapsed": false
   },
   "outputs": [
    {
     "name": "stdout",
     "output_type": "stream",
     "text": [
      "now resampling imgs from sub 02, ses 01\n"
     ]
    },
    {
     "name": "stderr",
     "output_type": "stream",
     "text": [
      "[Parallel(n_jobs=13)]: Using backend LokyBackend with 13 concurrent workers.\n",
      "[Parallel(n_jobs=13)]: Done   2 out of  13 | elapsed:    9.0s remaining:   49.2s\n",
      "[Parallel(n_jobs=13)]: Done   4 out of  13 | elapsed:   10.5s remaining:   23.5s\n",
      "[Parallel(n_jobs=13)]: Done   6 out of  13 | elapsed:   11.9s remaining:   13.9s\n",
      "[Parallel(n_jobs=13)]: Done   8 out of  13 | elapsed:   13.4s remaining:    8.4s\n",
      "[Parallel(n_jobs=13)]: Done  10 out of  13 | elapsed:   14.8s remaining:    4.4s\n",
      "[Parallel(n_jobs=13)]: Done  13 out of  13 | elapsed:   17.1s finished\n"
     ]
    },
    {
     "name": "stdout",
     "output_type": "stream",
     "text": [
      "now resampling imgs from sub 02, ses 02\n",
      "now resampling imgs from sub 02, ses 03\n"
     ]
    },
    {
     "name": "stderr",
     "output_type": "stream",
     "text": [
      "[Parallel(n_jobs=8)]: Using backend LokyBackend with 8 concurrent workers.\n",
      "[Parallel(n_jobs=8)]: Done   2 out of   8 | elapsed:    0.1s remaining:    0.3s\n",
      "[Parallel(n_jobs=8)]: Done   3 out of   8 | elapsed:    0.1s remaining:    0.2s\n",
      "[Parallel(n_jobs=8)]: Done   4 out of   8 | elapsed:    0.1s remaining:    0.1s\n",
      "[Parallel(n_jobs=8)]: Done   5 out of   8 | elapsed:    0.1s remaining:    0.1s\n",
      "[Parallel(n_jobs=8)]: Done   6 out of   8 | elapsed:    0.1s remaining:    0.0s\n",
      "[Parallel(n_jobs=8)]: Done   8 out of   8 | elapsed:    0.1s remaining:    0.0s\n",
      "[Parallel(n_jobs=8)]: Done   8 out of   8 | elapsed:    0.1s finished\n",
      "[Parallel(n_jobs=10)]: Using backend LokyBackend with 10 concurrent workers.\n"
     ]
    },
    {
     "name": "stdout",
     "output_type": "stream",
     "text": [
      "now resampling imgs from sub 02, ses 04\n"
     ]
    },
    {
     "name": "stderr",
     "output_type": "stream",
     "text": [
      "[Parallel(n_jobs=10)]: Done   3 out of  10 | elapsed:    0.1s remaining:    0.1s\n",
      "[Parallel(n_jobs=10)]: Done   5 out of  10 | elapsed:    0.1s remaining:    0.1s\n",
      "[Parallel(n_jobs=10)]: Done   7 out of  10 | elapsed:    0.1s remaining:    0.0s\n",
      "[Parallel(n_jobs=10)]: Done  10 out of  10 | elapsed:    0.1s finished\n",
      "[Parallel(n_jobs=15)]: Using backend LokyBackend with 15 concurrent workers.\n",
      "[Parallel(n_jobs=15)]: Done   2 out of  15 | elapsed:    0.1s remaining:    0.5s\n",
      "[Parallel(n_jobs=15)]: Done   4 out of  15 | elapsed:    0.1s remaining:    0.2s\n",
      "[Parallel(n_jobs=15)]: Done   6 out of  15 | elapsed:    0.1s remaining:    0.1s\n",
      "[Parallel(n_jobs=15)]: Done   8 out of  15 | elapsed:    0.1s remaining:    0.1s\n",
      "[Parallel(n_jobs=15)]: Done  10 out of  15 | elapsed:    0.1s remaining:    0.0s\n",
      "[Parallel(n_jobs=15)]: Done  12 out of  15 | elapsed:    0.1s remaining:    0.0s\n",
      "[Parallel(n_jobs=15)]: Done  15 out of  15 | elapsed:  1.6min finished\n"
     ]
    }
   ],
   "source": [
    "mni_fn = os.path.join('/home','vanes','bin','fsl','data','standard','MNI152_T1_2mm_brain.nii.gz')\n",
    "ref_img = nb.load(mni_fn)\n",
    "\n",
    "for sub in subs:\n",
    "    for ses in sess[sub]:\n",
    "       \n",
    "        print 'now resampling imgs from sub %s, ses %s'%(sub,ses)\n",
    "        # determine input\n",
    "        fmriprepdir = 'fmriprep_ses%s'%ses\n",
    "        input_dir = os.path.join(der_dir,fmriprepdir,'fmriprep','sub-%s'%sub,'ses-%s'%ses,'func')\n",
    "        fns = sorted(glob.glob(os.path.join(input_dir,'*_bold_space-%s_preproc.nii.gz'%space)))\n",
    "        # and output\n",
    "        sj_res_out_dir = os.path.join(res_out_dir,'sub-%s'%sub)\n",
    "        if not os.path.isdir(sj_res_out_dir): os.mkdir(sj_res_out_dir)\n",
    "\n",
    "        # now apply filtering in parallel over runs\n",
    "        Parallel(n_jobs=len(fns),verbose=9)(delayed(resample_img)(input_dir,sj_res_out_dir,fn,ref_img)  for fn in fns)\n"
   ]
  },
  {
   "cell_type": "code",
   "execution_count": null,
   "metadata": {
    "collapsed": true
   },
   "outputs": [],
   "source": []
  }
 ],
 "metadata": {
  "kernelspec": {
   "display_name": "Python [analysis]",
   "language": "python",
   "name": "Python [analysis]"
  },
  "language_info": {
   "codemirror_mode": {
    "name": "ipython",
    "version": 2
   },
   "file_extension": ".py",
   "mimetype": "text/x-python",
   "name": "python",
   "nbconvert_exporter": "python",
   "pygments_lexer": "ipython2",
   "version": "2.7.12"
  }
 },
 "nbformat": 4,
 "nbformat_minor": 0
}
