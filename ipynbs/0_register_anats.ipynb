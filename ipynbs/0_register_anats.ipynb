{
 "cells": [
  {
   "cell_type": "markdown",
   "metadata": {},
   "source": [
    "# flirt 3T niftis to match functional space \n",
    "\n",
    "This is necessary to get the aid the bbr register functionality in fmriprep"
   ]
  },
  {
   "cell_type": "code",
   "execution_count": 1,
   "metadata": {
    "collapsed": true
   },
   "outputs": [],
   "source": [
    "import os\n",
    "import glob\n",
    "from nipype.interfaces import fsl"
   ]
  },
  {
   "cell_type": "code",
   "execution_count": 2,
   "metadata": {
    "collapsed": true
   },
   "outputs": [],
   "source": [
    "anat_conv_dir = os.path.join('/home','raw_data','2018','visual','cerebellum_prf','anat_conversion')\n",
    "new_anat_dir = os.path.join(anat_conv_dir,'new_anats')\n",
    "mp2rage_dir = os.path.join(anat_conv_dir,'mp2rages')\n",
    "new_anat_out_dir = os.path.join(anat_conv_dir,'converted_new_anats')"
   ]
  },
  {
   "cell_type": "code",
   "execution_count": 5,
   "metadata": {
    "collapsed": false
   },
   "outputs": [],
   "source": [
    "for sess in ['04']:\n",
    "    for sub in ['02']:\n",
    "        new_anat = glob.glob(os.path.join(new_anat_dir,'sub-%s'%sub,'*.nii.gz'))[0]\n",
    "        mat_fn = os.path.join(new_anat_dir,'sub-%s'%sub,'transform_2_ses_%s.mat'%sess)\n",
    "        out_anat = os.path.join(new_anat_out_dir,'ses-%s'%sess,'sub-%s'%sub,'sub-%s_ses-%s_T1w.nii.gz'%(sub,sess))\n",
    "        ref_anat = glob.glob(os.path.join(mp2rage_dir,'ses-%s'%sess,'sub-%s'%sub,'*.nii.gz'))[0]\n",
    "\n",
    "        flt = fsl.FLIRT()\n",
    "        flt.inputs.in_file = new_anat\n",
    "        flt.inputs.reference = ref_anat\n",
    "        flt.inputs.out_matrix_file = mat_fn\n",
    "        flt.inputs.out_file = out_anat\n",
    "        flt.run()\n"
   ]
  },
  {
   "cell_type": "markdown",
   "metadata": {
    "collapsed": true
   },
   "source": [
    "# first compute how to go from zscore timemean to mni"
   ]
  },
  {
   "cell_type": "code",
   "execution_count": 43,
   "metadata": {
    "collapsed": false
   },
   "outputs": [
    {
     "name": "stdout",
     "output_type": "stream",
     "text": [
      "now finding transform to MNI for sub 01\n"
     ]
    }
   ],
   "source": [
    "# from nilearn.image import resample_to_img\n",
    "# import nibabel as nb\n",
    "\n",
    "# for sub in ['01']:#,'02','03']:\n",
    "#     print 'now finding transform to MNI for sub %s'%sub\n",
    "\n",
    "#     in_fn = os.path.join('/home','shared','2018','visual','cerebellum_prf','derivatives','pp','sgtf','sub-%s'%sub,'mean_sgtf_over_all_runs_timemean.nii.gz')\n",
    "#     out_fn = in_fn.replace('.nii.gz','_MNI.nii.gz')\n",
    "# #     mat_out_fn = in_fn.replace('.nii.gz','2MNI.mat')\n",
    "#     mni_fn = os.path.join('/home','vanes','bin','fsl','data','standard','MNI152_T1_2mm_brain.nii.gz')\n",
    "    \n",
    "#     in_img = nb.load(in_fn)\n",
    "#     ref_img = nb.load(mni_fn)\n",
    "# #     out_fn \n",
    "#     new_img = resample_to_img(in_fn, mni_fn)\n",
    "#     nb.save(new_img,out_fn)\n"
   ]
  },
  {
   "cell_type": "code",
   "execution_count": null,
   "metadata": {
    "collapsed": true
   },
   "outputs": [],
   "source": []
  },
  {
   "cell_type": "code",
   "execution_count": 29,
   "metadata": {
    "collapsed": true
   },
   "outputs": [],
   "source": [
    "# new_anat_dir = os.path.join(anat_conv_dir,'new_anats')\n",
    "# mp2rage_dir = os.path.join(anat_conv_dir,'mp2rages')\n",
    "# new_anat_out_dir = os.path.join(anat_conv_dir,'converted_new_anats')"
   ]
  },
  {
   "cell_type": "code",
   "execution_count": 21,
   "metadata": {
    "collapsed": false
   },
   "outputs": [
    {
     "data": {
      "text/plain": [
       "['/home/shared/2018/visual/cerebellum_prf/derivatives/pp/zscore/sub-01/mean_zscore_over_runs_ses_02.nii.gz',\n",
       " '/home/shared/2018/visual/cerebellum_prf/derivatives/pp/zscore/sub-01/mean_zscore_over_all_runs.nii.gz',\n",
       " '/home/shared/2018/visual/cerebellum_prf/derivatives/pp/zscore/sub-01/mean_zscore_over_runs_ses_01.nii.gz',\n",
       " '/home/shared/2018/visual/cerebellum_prf/derivatives/pp/zscore/sub-01/mean_zscore_over_all_runs_MNI.nii.gz']"
      ]
     },
     "execution_count": 21,
     "metadata": {},
     "output_type": "execute_result"
    }
   ],
   "source": []
  },
  {
   "cell_type": "markdown",
   "metadata": {},
   "source": [
    "# Resample to correct MNI resolution"
   ]
  },
  {
   "cell_type": "code",
   "execution_count": 35,
   "metadata": {
    "collapsed": false
   },
   "outputs": [
    {
     "name": "stdout",
     "output_type": "stream",
     "text": [
      "now changing res of /home/shared/2018/visual/cerebellum_prf/derivatives/pp/zscore/sub-02/mean_zscore_over_all_runs.nii.gz\n"
     ]
    }
   ],
   "source": [
    "from nilearn.image import resample_to_img\n",
    "import nibabel as nb\n",
    "\n",
    "mat_in_fn = os.path.join('/home','shared','2018','visual','cerebellum_prf','identity.mat')\n",
    "\n",
    "for sub in ['01']:#,'02','03']:\n",
    "    for sess in ['01']:#,'02']:\n",
    "\n",
    "#         for in_fn in glob.glob(os.path.join('/home','shared','2018','visual','cerebellum_prf','derivatives','pp','ng','sub-%s'%sub,'mean_*')):\n",
    "        print 'now changing res of %s'%(in_fn)\n",
    "\n",
    "        in_fn = os.path.join('/home','shared','2018','visual','cerebellum_prf','derivatives','pp','sgtf','sub-%s'%sub,'mean_sgtf_over_all_runs_timemean.nii.gz')\n",
    "        out_fn = in_fn.replace('.nii.gz','_MNI.nii.gz')\n",
    "\n",
    "        mni_fn = os.path.join('/home','vanes','bin','fsl','data','standard','MNI152_T1_2mm_brain.nii.gz')\n",
    "\n",
    "        in_img = nb.load(in_fn)\n",
    "        ref_img = nb.load(mni_fn)\n",
    "    #     out_fn \n",
    "        new_img = resample_to_img(in_fn, mni_fn)\n",
    "        nb.save(new_img,out_fn)\n",
    "\n",
    "#         flt = fsl.FLIRT()\n",
    "#         flt.inputs.in_file = in_fn\n",
    "#         flt.inputs.reference = mni_fn\n",
    "#         flt.inputs.in_matrix_file = mat_in_fn\n",
    "#         flt.inputs.apply_xfm = True\n",
    "#         flt.inputs.out_file = out_fn\n",
    "#         flt.run()\n",
    "\n",
    "\n"
   ]
  },
  {
   "cell_type": "code",
   "execution_count": null,
   "metadata": {
    "collapsed": true
   },
   "outputs": [],
   "source": []
  }
 ],
 "metadata": {
  "kernelspec": {
   "display_name": "Python [analysis]",
   "language": "python",
   "name": "Python [analysis]"
  },
  "language_info": {
   "codemirror_mode": {
    "name": "ipython",
    "version": 2
   },
   "file_extension": ".py",
   "mimetype": "text/x-python",
   "name": "python",
   "nbconvert_exporter": "python",
   "pygments_lexer": "ipython2",
   "version": "2.7.12"
  }
 },
 "nbformat": 4,
 "nbformat_minor": 0
}
