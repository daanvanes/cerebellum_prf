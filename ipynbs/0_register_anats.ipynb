{
 "cells": [
  {
   "cell_type": "markdown",
   "metadata": {},
   "source": [
    "# flirt 3T niftis to match functional space \n",
    "\n",
    "In each session, we collected a quick MP2RAGE image. However, this image is not good enough for the BBR registration tool. Therefore, I've plugged in a 3T T1 image that was collected separately into the bids dir. However, this image was in a different orientation than the functional runs. To alleviate this problem, I've regsitered these 3tT1s to the 7T MP2rages. "
   ]
  },
  {
   "cell_type": "code",
   "execution_count": 1,
   "metadata": {
    "collapsed": true
   },
   "outputs": [],
   "source": [
    "import os\n",
    "import glob\n",
    "from nipype.interfaces import fsl"
   ]
  },
  {
   "cell_type": "code",
   "execution_count": 2,
   "metadata": {
    "collapsed": true
   },
   "outputs": [],
   "source": [
    "anat_conv_dir = os.path.join('/home','raw_data','2018','visual','cerebellum_prf','anat_conversion')\n",
    "new_anat_dir = os.path.join(anat_conv_dir,'new_anats')\n",
    "mp2rage_dir = os.path.join(anat_conv_dir,'mp2rages')\n",
    "new_anat_out_dir = os.path.join(anat_conv_dir,'converted_new_anats')"
   ]
  },
  {
   "cell_type": "code",
   "execution_count": 5,
   "metadata": {
    "collapsed": false
   },
   "outputs": [],
   "source": [
    "sess = {\n",
    "    '01':['01','02','03'],\n",
    "    '02':['01','02','03','04'],\n",
    "    '03':['01','02','03']\n",
    "}\n",
    "\n",
    "for sub in ['01','02','03']:\n",
    "    for ses in sess[sub]:\n",
    "        new_anat = glob.glob(os.path.join(new_anat_dir,'sub-%s'%sub,'*.nii.gz'))[0]\n",
    "        mat_fn = os.path.join(new_anat_dir,'sub-%s'%sub,'transform_2_ses_%s.mat'%sess)\n",
    "        out_anat = os.path.join(new_anat_out_dir,'ses-%s'%sess,'sub-%s'%sub,'sub-%s_ses-%s_T1w.nii.gz'%(sub,sess))\n",
    "        ref_anat = glob.glob(os.path.join(mp2rage_dir,'ses-%s'%sess,'sub-%s'%sub,'*.nii.gz'))[0]\n",
    "\n",
    "        flt = fsl.FLIRT()\n",
    "        flt.inputs.in_file = new_anat\n",
    "        flt.inputs.reference = ref_anat\n",
    "        flt.inputs.out_matrix_file = mat_fn\n",
    "        flt.inputs.out_file = out_anat\n",
    "        flt.run()\n"
   ]
  }
 ],
 "metadata": {
  "kernelspec": {
   "display_name": "Python [analysis]",
   "language": "python",
   "name": "Python [analysis]"
  },
  "language_info": {
   "codemirror_mode": {
    "name": "ipython",
    "version": 2
   },
   "file_extension": ".py",
   "mimetype": "text/x-python",
   "name": "python",
   "nbconvert_exporter": "python",
   "pygments_lexer": "ipython2",
   "version": "2.7.12"
  }
 },
 "nbformat": 4,
 "nbformat_minor": 0
}
