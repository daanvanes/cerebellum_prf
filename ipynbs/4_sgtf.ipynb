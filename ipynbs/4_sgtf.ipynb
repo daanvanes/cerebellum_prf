{
 "cells": [
  {
   "cell_type": "code",
   "execution_count": 1,
   "metadata": {
    "collapsed": false
   },
   "outputs": [
    {
     "name": "stderr",
     "output_type": "stream",
     "text": [
      "/home/vanes/anaconda2/envs/analysis/lib/python2.7/site-packages/ipykernel/__main__.py:7: DeprecationWarning: Python2 support is deprecated and will be removed in a future release. Consider switching to Python3.\n",
      "/home/vanes/anaconda2/envs/analysis/lib/python2.7/site-packages/sklearn/utils/extmath.py:23: RuntimeWarning: numpy.dtype size changed, may indicate binary incompatibility. Expected 96, got 88\n",
      "  from ._logistic_sigmoid import _log_logistic_sigmoid\n",
      "/home/vanes/anaconda2/envs/analysis/lib/python2.7/site-packages/sklearn/metrics/cluster/supervised.py:25: RuntimeWarning: numpy.dtype size changed, may indicate binary incompatibility. Expected 96, got 88\n",
      "  from .expected_mutual_info_fast import expected_mutual_information\n",
      "/home/vanes/anaconda2/envs/analysis/lib/python2.7/site-packages/sklearn/metrics/pairwise.py:31: RuntimeWarning: numpy.dtype size changed, may indicate binary incompatibility. Expected 96, got 88\n",
      "  from .pairwise_fast import _chi2_kernel_fast, _sparse_manhattan\n",
      "/home/vanes/anaconda2/envs/analysis/lib/python2.7/site-packages/sklearn/utils/random.py:10: RuntimeWarning: numpy.dtype size changed, may indicate binary incompatibility. Expected 96, got 88\n",
      "  from ._random import sample_without_replacement\n",
      "/home/vanes/anaconda2/envs/analysis/lib/python2.7/site-packages/sklearn/neighbors/__init__.py:6: RuntimeWarning: numpy.dtype size changed, may indicate binary incompatibility. Expected 96, got 88\n",
      "  from .ball_tree import BallTree\n"
     ]
    }
   ],
   "source": [
    "import os\n",
    "import glob\n",
    "import numpy as np\n",
    "import nibabel as nb\n",
    "from nipype.interfaces import fsl\n",
    "import nipype.pipeline.engine as pe\n",
    "from nilearn import image\n",
    "from joblib import Parallel, delayed\n"
   ]
  },
  {
   "cell_type": "code",
   "execution_count": 2,
   "metadata": {
    "collapsed": false
   },
   "outputs": [],
   "source": [
    "home_dir = '/home/shared/2018/visual/cerebellum_prf/'\n",
    "der_dir = os.path.join(home_dir,'derivatives')\n",
    "out_dir = os.path.join(home_dir,'derivatives','pp')\n",
    "res_out_dir = os.path.join(out_dir,'res')\n",
    "subs = ['02']#,'02','03']#01','02','03']#,'02','03']\n",
    "sess = {\n",
    "    '01':['01','02','03'],\n",
    "    '02':['01','02','03','04'],\n",
    "    '03':['01','02','03']\n",
    "}\n",
    "# sess = ['03']\n",
    "space = 'MNI152NLin2009cAsym' # 'T1w' \n"
   ]
  },
  {
   "cell_type": "code",
   "execution_count": 3,
   "metadata": {
    "collapsed": true
   },
   "outputs": [],
   "source": [
    "def savgol_filter(in_file, polyorder=3, deriv=0, window_length = 120):\n",
    "    \"\"\" Applies a savitsky-golay filter to a nifti-file.\n",
    "\n",
    "    Fits a savitsky-golay filter to a 4D fMRI nifti-file and subtracts the\n",
    "    fitted data from the original data to effectively remove low-frequency\n",
    "    signals.\n",
    "\n",
    "    Parameters\n",
    "    ----------\n",
    "    in_file : str\n",
    "        Absolute path to nifti-file.\n",
    "    polyorder : int (default: 3)\n",
    "        Order of polynomials to use in filter.\n",
    "    deriv : int (default: 0)\n",
    "        Number of derivatives to use in filter.\n",
    "    window_length : int (default: 120)\n",
    "        Window length in seconds.\n",
    "\n",
    "    Returns\n",
    "    -------\n",
    "    out_file : str\n",
    "        Absolute path to filtered nifti-file.\n",
    "    \"\"\"\n",
    "\n",
    "    import nibabel as nib\n",
    "    from scipy.signal import savgol_filter\n",
    "    import numpy as np\n",
    "    import os\n",
    "\n",
    "    data = nib.load(in_file)\n",
    "    dims = data.shape\n",
    "    affine = data.affine\n",
    "    header = data.header\n",
    "    tr = data.header['pixdim'][4]\n",
    "\n",
    "    # TR must be in seconds\n",
    "    if tr < 0.01:\n",
    "        tr = np.round(tr * 1000, decimals=3)\n",
    "    if tr > 20:\n",
    "        tr = tr / 1000.0\n",
    "\n",
    "    window = np.int(window_length / tr)\n",
    "\n",
    "    # Window must be odd\n",
    "    if window % 2 == 0:\n",
    "        window += 1\n",
    "\n",
    "    data = data.get_data().reshape((np.prod(data.shape[:-1]), data.shape[-1]))\n",
    "    data_filt = savgol_filter(data, window_length=window, polyorder=polyorder,\n",
    "                              deriv=deriv, axis=1, mode='nearest')\n",
    "\n",
    "    data_filt = data - data_filt + data_filt.mean(axis=-1)[:, np.newaxis]\n",
    "    data_filt = data_filt.reshape(dims)\n",
    "    img = nib.Nifti1Image(data_filt, affine=affine, header=header)\n",
    "\n",
    "    return img"
   ]
  },
  {
   "cell_type": "code",
   "execution_count": 4,
   "metadata": {
    "collapsed": true
   },
   "outputs": [],
   "source": [
    "def perform_filtering(input_dir,sj_sgtf_out_dir,fn):\n",
    "    \n",
    "    # now apply filtering\n",
    "    out_fn = fn.replace(input_dir,sj_sgtf_out_dir).replace('.nii.gz','_sgtf.nii.gz')\n",
    "\n",
    "    if not os.path.isfile(out_fn):\n",
    "\n",
    "        # savitzky golay filtering\n",
    "        print 'now savgolling %s'%fn\n",
    "        sg_img = savgol_filter(fn)\n",
    "        nb.save(sg_img,out_fn)"
   ]
  },
  {
   "cell_type": "markdown",
   "metadata": {},
   "source": [
    "### perform temporal filtering"
   ]
  },
  {
   "cell_type": "code",
   "execution_count": 5,
   "metadata": {
    "collapsed": false
   },
   "outputs": [
    {
     "name": "stdout",
     "output_type": "stream",
     "text": [
      "now removing drifts in sub 02, ses 01\n"
     ]
    },
    {
     "name": "stderr",
     "output_type": "stream",
     "text": [
      "[Parallel(n_jobs=6)]: Using backend LokyBackend with 6 concurrent workers.\n",
      "[Parallel(n_jobs=6)]: Done   4 out of  13 | elapsed:  1.3min remaining:  3.0min\n",
      "[Parallel(n_jobs=6)]: Done   6 out of  13 | elapsed:  1.3min remaining:  1.6min\n",
      "[Parallel(n_jobs=6)]: Done   8 out of  13 | elapsed:  2.4min remaining:  1.5min\n",
      "[Parallel(n_jobs=6)]: Done  10 out of  13 | elapsed:  2.4min remaining:   44.0s\n",
      "[Parallel(n_jobs=6)]: Done  13 out of  13 | elapsed:  3.5min finished\n",
      "[Parallel(n_jobs=6)]: Using backend LokyBackend with 6 concurrent workers.\n"
     ]
    },
    {
     "name": "stdout",
     "output_type": "stream",
     "text": [
      "now removing drifts in sub 02, ses 02\n"
     ]
    },
    {
     "name": "stderr",
     "output_type": "stream",
     "text": [
      "[Parallel(n_jobs=6)]: Done   2 out of   8 | elapsed:  1.2min remaining:  3.7min\n",
      "[Parallel(n_jobs=6)]: Done   3 out of   8 | elapsed:  1.3min remaining:  2.1min\n",
      "[Parallel(n_jobs=6)]: Done   4 out of   8 | elapsed:  1.3min remaining:  1.3min\n",
      "[Parallel(n_jobs=6)]: Done   5 out of   8 | elapsed:  1.3min remaining:   45.3s\n",
      "[Parallel(n_jobs=6)]: Done   6 out of   8 | elapsed:  1.3min remaining:   25.3s\n",
      "[Parallel(n_jobs=6)]: Done   8 out of   8 | elapsed:  2.3min remaining:    0.0s\n",
      "[Parallel(n_jobs=6)]: Done   8 out of   8 | elapsed:  2.3min finished\n",
      "[Parallel(n_jobs=6)]: Using backend LokyBackend with 6 concurrent workers.\n"
     ]
    },
    {
     "name": "stdout",
     "output_type": "stream",
     "text": [
      "now removing drifts in sub 02, ses 03\n"
     ]
    },
    {
     "name": "stderr",
     "output_type": "stream",
     "text": [
      "[Parallel(n_jobs=6)]: Done   3 out of  10 | elapsed:  1.1min remaining:  2.6min\n",
      "[Parallel(n_jobs=6)]: Done   5 out of  10 | elapsed:  1.1min remaining:  1.1min\n",
      "[Parallel(n_jobs=6)]: Done   7 out of  10 | elapsed:  2.3min remaining:   59.6s\n",
      "[Parallel(n_jobs=6)]: Done  10 out of  10 | elapsed:  2.3min finished\n",
      "[Parallel(n_jobs=6)]: Using backend LokyBackend with 6 concurrent workers.\n"
     ]
    },
    {
     "name": "stdout",
     "output_type": "stream",
     "text": [
      "now removing drifts in sub 02, ses 04\n"
     ]
    },
    {
     "name": "stderr",
     "output_type": "stream",
     "text": [
      "[Parallel(n_jobs=6)]: Done   6 out of  15 | elapsed:  1.1min remaining:  1.6min\n",
      "[Parallel(n_jobs=6)]: Done   8 out of  15 | elapsed:  2.1min remaining:  1.9min\n",
      "[Parallel(n_jobs=6)]: Done  10 out of  15 | elapsed:  2.1min remaining:  1.1min\n",
      "[Parallel(n_jobs=6)]: Done  12 out of  15 | elapsed:  2.2min remaining:   32.5s\n"
     ]
    },
    {
     "name": "stdout",
     "output_type": "stream",
     "text": [
      "done!\n"
     ]
    },
    {
     "name": "stderr",
     "output_type": "stream",
     "text": [
      "[Parallel(n_jobs=6)]: Done  15 out of  15 | elapsed:  3.3min finished\n"
     ]
    }
   ],
   "source": [
    "# apply savitzky golay filtering\n",
    "\n",
    "sgtf_out_dir = os.path.join(out_dir,'sgtf')\n",
    "if not os.path.isdir(sgtf_out_dir): os.mkdir(sgtf_out_dir)\n",
    "\n",
    "for sub in subs:\n",
    "    for ses in sess[sub]:\n",
    "        \n",
    "        print('now removing drifts in sub %s, ses %s'%(sub,ses))\n",
    "\n",
    "        # get input fns\n",
    "        input_dir = os.path.join(res_out_dir,'sub-%s'%sub)\n",
    "        fns = sorted(glob.glob(os.path.join(input_dir,'sub-%s_ses-%s*bold_space-%s_preproc_resampled_fnirted_smoothed.nii.gz'%(sub,ses,space))))\n",
    "\n",
    "        # and output\n",
    "        output_dir = os.path.join(sgtf_out_dir,'sub-%s'%sub)\n",
    "        if not os.path.isdir(output_dir): os.mkdir(output_dir)\n",
    "\n",
    "        # now apply filtering in parallel over runs\n",
    "        Parallel(n_jobs=6,verbose=9)(delayed(perform_filtering)(input_dir,output_dir,fn)  for fn in fns)\n",
    "\n",
    "print 'done!'"
   ]
  },
  {
   "cell_type": "code",
   "execution_count": null,
   "metadata": {
    "collapsed": true
   },
   "outputs": [],
   "source": []
  }
 ],
 "metadata": {
  "kernelspec": {
   "display_name": "Python [analysis]",
   "language": "python",
   "name": "Python [analysis]"
  },
  "language_info": {
   "codemirror_mode": {
    "name": "ipython",
    "version": 2
   },
   "file_extension": ".py",
   "mimetype": "text/x-python",
   "name": "python",
   "nbconvert_exporter": "python",
   "pygments_lexer": "ipython2",
   "version": "2.7.12"
  }
 },
 "nbformat": 4,
 "nbformat_minor": 0
}
