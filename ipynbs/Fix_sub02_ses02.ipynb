{
 "cells": [
  {
   "cell_type": "markdown",
   "metadata": {
    "collapsed": true
   },
   "source": [
    "# Fix ses 02 for sub 02\n",
    "\n",
    "Problem: the phase encoding direction for the functionals was erroneously set to left-right instead of head-foot. In addition, the phase encoding direction for the top-ups was set to the same direction, so unwarping was not possible in this dataset. \n",
    "\n",
    "To solve this problem, we can FNIRT all the functionals from session 2 to one of the functionals from session 3. Then, we put the fmap from that run as the fmap for all functionals in session 2. "
   ]
  },
  {
   "cell_type": "code",
   "execution_count": 8,
   "metadata": {
    "collapsed": true
   },
   "outputs": [],
   "source": [
    "import os\n",
    "import nibabel as nb\n",
    "import numpy as np\n",
    "from nipype.interfaces import fsl\n",
    "import glob\n",
    "base_dir = '/home/raw_data/2018/visual/cerebellum_prf/bids_sub-02_former_ses-02/sub-02/ses-02/func/'\n",
    "target_dir = '/home/raw_data/2018/visual/cerebellum_prf/bids_ses03/sub-02/ses-03/func/'"
   ]
  },
  {
   "cell_type": "markdown",
   "metadata": {},
   "source": [
    "Let's first create a time-average from an example run in session 03"
   ]
  },
  {
   "cell_type": "code",
   "execution_count": 7,
   "metadata": {
    "collapsed": false
   },
   "outputs": [],
   "source": [
    "\n",
    "target_fn = os.path.join(target_dir,'sub-02_ses-03_task-prf_run-01_bold.nii.gz')\n",
    "target_avg_fn = os.path.join(base_dir,'target.nii.gz')\n",
    "\n",
    "img = nb.load(target_fn)\n",
    "data = img.get_data()\n",
    "avg_data = np.mean(data,axis=-1)\n",
    "new_img = nb.Nifti1Image(avg_data,img.affine,img.header)\n",
    "nb.save(new_img,target_avg_fn)\n",
    "    "
   ]
  },
  {
   "cell_type": "markdown",
   "metadata": {},
   "source": [
    "now that we have the target, let's first flirt, and then fnirt the ses 2 functionals to the target epi. For that, let's first create time averages to save computation time"
   ]
  },
  {
   "cell_type": "code",
   "execution_count": 48,
   "metadata": {
    "collapsed": true
   },
   "outputs": [],
   "source": [
    "# first create time averages to save computation time of flirt and fnirts\n",
    "for fn in glob.glob(os.path.join(base_dir,'*bold.nii.gz')):\n",
    "    \n",
    "    img = nb.load(fn)\n",
    "    data = img.get_data()\n",
    "    avg_data = np.mean(data,axis=-1)\n",
    "    new_img = nb.Nifti1Image(avg_data,img.affine,img.header)\n",
    "    out_fn = fn.replace('.nii.gz','_avg.nii.gz')\n",
    "    nb.save(new_img,out_fn)\n"
   ]
  },
  {
   "cell_type": "code",
   "execution_count": 10,
   "metadata": {
    "collapsed": false
   },
   "outputs": [
    {
     "name": "stdout",
     "output_type": "stream",
     "text": [
      "now flirting /home/raw_data/2018/visual/cerebellum_prf/bids_sub-02_former_ses-02/sub-02/ses-02/func/sub-02_ses-02_task-prf_run-01_bold_avg.nii.gz to /home/raw_data/2018/visual/cerebellum_prf/bids_sub-02_former_ses-02/sub-02/ses-02/func/target.nii.gz\n",
      "now flirting /home/raw_data/2018/visual/cerebellum_prf/bids_sub-02_former_ses-02/sub-02/ses-02/func/sub-02_ses-02_task-prf_run-02_bold_avg.nii.gz to /home/raw_data/2018/visual/cerebellum_prf/bids_sub-02_former_ses-02/sub-02/ses-02/func/target.nii.gz\n",
      "now flirting /home/raw_data/2018/visual/cerebellum_prf/bids_sub-02_former_ses-02/sub-02/ses-02/func/sub-02_ses-02_task-prf_run-08_bold_avg.nii.gz to /home/raw_data/2018/visual/cerebellum_prf/bids_sub-02_former_ses-02/sub-02/ses-02/func/target.nii.gz\n",
      "now flirting /home/raw_data/2018/visual/cerebellum_prf/bids_sub-02_former_ses-02/sub-02/ses-02/func/sub-02_ses-02_task-prf_run-05_bold_avg.nii.gz to /home/raw_data/2018/visual/cerebellum_prf/bids_sub-02_former_ses-02/sub-02/ses-02/func/target.nii.gz\n",
      "now flirting /home/raw_data/2018/visual/cerebellum_prf/bids_sub-02_former_ses-02/sub-02/ses-02/func/sub-02_ses-02_task-prf_run-07_bold_avg.nii.gz to /home/raw_data/2018/visual/cerebellum_prf/bids_sub-02_former_ses-02/sub-02/ses-02/func/target.nii.gz\n",
      "now flirting /home/raw_data/2018/visual/cerebellum_prf/bids_sub-02_former_ses-02/sub-02/ses-02/func/sub-02_ses-02_task-prf_run-04_bold_avg.nii.gz to /home/raw_data/2018/visual/cerebellum_prf/bids_sub-02_former_ses-02/sub-02/ses-02/func/target.nii.gz\n",
      "now flirting /home/raw_data/2018/visual/cerebellum_prf/bids_sub-02_former_ses-02/sub-02/ses-02/func/sub-02_ses-02_task-prf_run-03_bold_avg.nii.gz to /home/raw_data/2018/visual/cerebellum_prf/bids_sub-02_former_ses-02/sub-02/ses-02/func/target.nii.gz\n",
      "now flirting /home/raw_data/2018/visual/cerebellum_prf/bids_sub-02_former_ses-02/sub-02/ses-02/func/sub-02_ses-02_task-prf_run-06_bold_avg.nii.gz to /home/raw_data/2018/visual/cerebellum_prf/bids_sub-02_former_ses-02/sub-02/ses-02/func/target.nii.gz\n"
     ]
    }
   ],
   "source": [
    "# first flirt all files to target \n",
    "for fn in glob.glob(os.path.join(base_dir,'*bold_avg.nii.gz')):\n",
    "    \n",
    "    print('now flirting %s to %s'%(fn,target_avg_fn))\n",
    "    # now flirt avg fmap to target avg fmap\n",
    "    mat_fn = fn.replace('.nii.gz','.mat')\n",
    "\n",
    "    flt = fsl.FLIRT()\n",
    "    flt.inputs.in_file = fn\n",
    "    flt.inputs.reference = target_avg_fn\n",
    "    flt.inputs.out_matrix_file = mat_fn\n",
    "    flt.inputs.out_file = fn.replace('.nii.gz','_flirted.nii.gz')\n",
    "    flt.run()"
   ]
  },
  {
   "cell_type": "code",
   "execution_count": 11,
   "metadata": {
    "collapsed": false
   },
   "outputs": [
    {
     "name": "stdout",
     "output_type": "stream",
     "text": [
      "now fnirting /home/raw_data/2018/visual/cerebellum_prf/bids_sub-02_former_ses-02/sub-02/ses-02/func/sub-02_ses-02_task-prf_run-01_bold_avg.nii.gz to /home/raw_data/2018/visual/cerebellum_prf/bids_sub-02_former_ses-02/sub-02/ses-02/func/target.nii.gz\n",
      "now fnirting /home/raw_data/2018/visual/cerebellum_prf/bids_sub-02_former_ses-02/sub-02/ses-02/func/sub-02_ses-02_task-prf_run-02_bold_avg.nii.gz to /home/raw_data/2018/visual/cerebellum_prf/bids_sub-02_former_ses-02/sub-02/ses-02/func/target.nii.gz\n",
      "now fnirting /home/raw_data/2018/visual/cerebellum_prf/bids_sub-02_former_ses-02/sub-02/ses-02/func/sub-02_ses-02_task-prf_run-08_bold_avg.nii.gz to /home/raw_data/2018/visual/cerebellum_prf/bids_sub-02_former_ses-02/sub-02/ses-02/func/target.nii.gz\n",
      "now fnirting /home/raw_data/2018/visual/cerebellum_prf/bids_sub-02_former_ses-02/sub-02/ses-02/func/sub-02_ses-02_task-prf_run-05_bold_avg.nii.gz to /home/raw_data/2018/visual/cerebellum_prf/bids_sub-02_former_ses-02/sub-02/ses-02/func/target.nii.gz\n",
      "now fnirting /home/raw_data/2018/visual/cerebellum_prf/bids_sub-02_former_ses-02/sub-02/ses-02/func/sub-02_ses-02_task-prf_run-07_bold_avg.nii.gz to /home/raw_data/2018/visual/cerebellum_prf/bids_sub-02_former_ses-02/sub-02/ses-02/func/target.nii.gz\n",
      "now fnirting /home/raw_data/2018/visual/cerebellum_prf/bids_sub-02_former_ses-02/sub-02/ses-02/func/sub-02_ses-02_task-prf_run-04_bold_avg.nii.gz to /home/raw_data/2018/visual/cerebellum_prf/bids_sub-02_former_ses-02/sub-02/ses-02/func/target.nii.gz\n",
      "now fnirting /home/raw_data/2018/visual/cerebellum_prf/bids_sub-02_former_ses-02/sub-02/ses-02/func/sub-02_ses-02_task-prf_run-03_bold_avg.nii.gz to /home/raw_data/2018/visual/cerebellum_prf/bids_sub-02_former_ses-02/sub-02/ses-02/func/target.nii.gz\n",
      "now fnirting /home/raw_data/2018/visual/cerebellum_prf/bids_sub-02_former_ses-02/sub-02/ses-02/func/sub-02_ses-02_task-prf_run-06_bold_avg.nii.gz to /home/raw_data/2018/visual/cerebellum_prf/bids_sub-02_former_ses-02/sub-02/ses-02/func/target.nii.gz\n"
     ]
    }
   ],
   "source": [
    "# now compute the warpfield of all time-average files to the time-average target\n",
    "for fn in glob.glob(os.path.join(base_dir,'*bold_avg.nii.gz')):\n",
    "    \n",
    "    print('now fnirting %s to %s'%(fn,target_avg_fn))\n",
    "\n",
    "    coef_fn = fn.replace('.nii.gz','_field.nii.gz')\n",
    "\n",
    "    flt = fsl.FNIRT()\n",
    "    flt.inputs.in_file = fn\n",
    "    flt.inputs.affine_file = fn.replace('.nii.gz','.mat')\n",
    "    flt.inputs.ref_file = target_avg_fn\n",
    "    flt.inputs.warped_file = fn.replace('.nii.gz','_fnirted.nii.gz')\n",
    "    flt.inputs.field_file = coef_fn\n",
    "    flt.run()"
   ]
  },
  {
   "cell_type": "code",
   "execution_count": 16,
   "metadata": {
    "collapsed": false
   },
   "outputs": [
    {
     "name": "stdout",
     "output_type": "stream",
     "text": [
      "now applying warp to /home/raw_data/2018/visual/cerebellum_prf/bids_sub-02_former_ses-02/sub-02/ses-02/func/sub-02_ses-02_task-prf_run-04_bold.nii.gz\n",
      "now applying warp to /home/raw_data/2018/visual/cerebellum_prf/bids_sub-02_former_ses-02/sub-02/ses-02/func/sub-02_ses-02_task-prf_run-05_bold.nii.gz\n",
      "now applying warp to /home/raw_data/2018/visual/cerebellum_prf/bids_sub-02_former_ses-02/sub-02/ses-02/func/sub-02_ses-02_task-prf_run-03_bold.nii.gz\n",
      "now applying warp to /home/raw_data/2018/visual/cerebellum_prf/bids_sub-02_former_ses-02/sub-02/ses-02/func/sub-02_ses-02_task-prf_run-06_bold.nii.gz\n",
      "now applying warp to /home/raw_data/2018/visual/cerebellum_prf/bids_sub-02_former_ses-02/sub-02/ses-02/func/sub-02_ses-02_task-prf_run-08_bold.nii.gz\n",
      "now applying warp to /home/raw_data/2018/visual/cerebellum_prf/bids_sub-02_former_ses-02/sub-02/ses-02/func/sub-02_ses-02_task-prf_run-01_bold.nii.gz\n",
      "now applying warp to /home/raw_data/2018/visual/cerebellum_prf/bids_sub-02_former_ses-02/sub-02/ses-02/func/sub-02_ses-02_task-prf_run-02_bold.nii.gz\n",
      "now applying warp to /home/raw_data/2018/visual/cerebellum_prf/bids_sub-02_former_ses-02/sub-02/ses-02/func/sub-02_ses-02_task-prf_run-07_bold.nii.gz\n"
     ]
    }
   ],
   "source": [
    "# and applywarp to full imgs\n",
    "for fn in glob.glob(os.path.join(base_dir,'*bold.nii.gz')):\n",
    "    \n",
    "    print('now applying warp to %s'%(fn))\n",
    "    coef_fn = fn.replace('.nii.gz','_avg_field.nii.gz')\n",
    "    \n",
    "    flt = fsl.ApplyWarp()\n",
    "    flt.inputs.ref_file = target_avg_fn\n",
    "    flt.inputs.in_file = fn\n",
    "    flt.inputs.out_file = fn.replace('.nii.gz','_fnirted.nii.gz')\n",
    "    flt.inputs.field_file = coef_fn\n",
    "    flt.run()\n",
    "\n",
    "\n"
   ]
  },
  {
   "cell_type": "code",
   "execution_count": null,
   "metadata": {
    "collapsed": true
   },
   "outputs": [],
   "source": [
    "# next stuff is wrong old stuff"
   ]
  },
  {
   "cell_type": "code",
   "execution_count": null,
   "metadata": {
    "collapsed": true
   },
   "outputs": [],
   "source": []
  },
  {
   "cell_type": "code",
   "execution_count": null,
   "metadata": {
    "collapsed": true
   },
   "outputs": [],
   "source": []
  },
  {
   "cell_type": "code",
   "execution_count": 33,
   "metadata": {
    "collapsed": false
   },
   "outputs": [],
   "source": [
    "# load in target file and compute average over volumes\n",
    "for fmap_fn in glob.glob(os.path.join(raw_dir,'fmap','*epi.nii.gz')):\n",
    "    img = nb.load(fmap_fn)\n",
    "    data = img.get_data()\n",
    "    avg_data = np.mean(data,axis=-1)\n",
    "    new_img = nb.Nifti1Image(avg_data,img.affine,img.header)\n",
    "    out_fn = fmap_fn.replace('.nii.gz','_avg.nii.gz')\n",
    "    nb.save(new_img,out_fn)"
   ]
  },
  {
   "cell_type": "code",
   "execution_count": 32,
   "metadata": {
    "collapsed": false
   },
   "outputs": [],
   "source": [
    "# now create a target img\n",
    "for fmap_fn in glob.glob(os.path.join(raw_target_dir,'fmap','*epi.nii.gz')):\n",
    "#     fmap_fn = os.path.join(raw_target_dir,'fmap','sub-02_ses-02_run-01_epi.nii.gz')\n",
    "    img = nb.load(fmap_fn)\n",
    "    data = img.get_data()\n",
    "    avg_data = np.mean(data,axis=-1)\n",
    "    new_img = nb.Nifti1Image(avg_data,img.affine,img.header)\n",
    "    target_out_fn = fmap_fn.replace('.nii.gz','_avg.nii.gz')\n",
    "    nb.save(new_img,target_out_fn)"
   ]
  },
  {
   "cell_type": "code",
   "execution_count": null,
   "metadata": {
    "collapsed": true
   },
   "outputs": [],
   "source": [
    "# now average these volumes to create most general template\n",
    "for this_dir in [raw_target_dir,raw_dir]:\n",
    "    data = []\n",
    "    for fmap_fn in glob.glob(os.path.join(this_dir,'fmap','*avg.nii.gz')):\n",
    "        img = nb.load(fmap_fn)\n",
    "        data.append(img.get_data())\n",
    "    avg_data = np.mean(data,axis=0)\n",
    "    new_img = nb.Nifti1Image(avg_data,img.affine,img.header)\n",
    "    base_out_fn = os.path.join(this_dir,'fmap','overall_avg.nii.gz')\n",
    "    nb.save(new_img,base_out_fn)    "
   ]
  },
  {
   "cell_type": "code",
   "execution_count": 37,
   "metadata": {
    "collapsed": false
   },
   "outputs": [
    {
     "data": {
      "text/plain": [
       "<nipype.interfaces.base.InterfaceResult at 0x7f8c0d473210>"
      ]
     },
     "execution_count": 37,
     "metadata": {},
     "output_type": "execute_result"
    }
   ],
   "source": [
    "# now flirt avg fmap to target avg fmap\n",
    "mat_fn = os.path.join(raw_dir,'fmap','overall_avg_to_target.mat')\n",
    "\n",
    "flt = fsl.FLIRT()\n",
    "flt.inputs.in_file = os.path.join(raw_dir,'fmap','overall_avg.nii.gz')\n",
    "flt.inputs.reference = os.path.join(raw_target_dir,'fmap','overall_avg.nii.gz')\n",
    "flt.inputs.out_matrix_file = mat_fn\n",
    "flt.inputs.out_file = os.path.join(raw_dir,'fmap','overall_avg_flirted.nii.gz')\n",
    "flt.run()"
   ]
  },
  {
   "cell_type": "code",
   "execution_count": 38,
   "metadata": {
    "collapsed": false
   },
   "outputs": [
    {
     "data": {
      "text/plain": [
       "<nipype.interfaces.base.InterfaceResult at 0x7f8c38220590>"
      ]
     },
     "execution_count": 38,
     "metadata": {},
     "output_type": "execute_result"
    }
   ],
   "source": [
    "# now fnirt base to target\n",
    "coef_fn = os.path.join(raw_dir,'fmap','overall_avg_field.nii.gz')\n",
    "\n",
    "flt = fsl.FNIRT()\n",
    "flt.inputs.in_file = os.path.join(raw_dir,'fmap','overall_avg.nii.gz')\n",
    "flt.inputs.affine_file = mat_fn\n",
    "flt.inputs.ref_file = os.path.join(raw_target_dir,'fmap','overall_avg.nii.gz')\n",
    "flt.inputs.warped_file = os.path.join(raw_dir,'fmap','overall_avg_fnirted.nii.gz')\n",
    "flt.inputs.field_file = coef_fn\n",
    "flt.run()"
   ]
  },
  {
   "cell_type": "code",
   "execution_count": 40,
   "metadata": {
    "collapsed": false
   },
   "outputs": [],
   "source": [
    "# now apply warpfield to all niftis\n",
    "for fn in glob.glob(os.path.join(raw_dir,'fmap','*epi.nii.gz')):\n",
    "    flt = fsl.ApplyWarp()\n",
    "    flt.inputs.ref_file = os.path.join(raw_target_dir,'fmap','overall_avg.nii.gz')\n",
    "    flt.inputs.in_file = fn\n",
    "    flt.inputs.out_file = fn.replace('.nii.gz','_fnirted.nii.gz')\n",
    "    flt.inputs.field_file = coef_fn\n",
    "#     flt.inputs.premat = mat_fn\n",
    "    flt.run()\n",
    "# applywarp --ref=MNI152_T1_2mm.nii --in=func.nii --out=funcInMNI.nii --warp=warp_struct2mni.nii --premat=func2struct.mat\n"
   ]
  },
  {
   "cell_type": "code",
   "execution_count": 42,
   "metadata": {
    "collapsed": true
   },
   "outputs": [],
   "source": [
    "# now apply warpfield to all niftis\n",
    "for fn in glob.glob(os.path.join(raw_dir,'func','*bold.nii.gz')):\n",
    "    flt = fsl.ApplyWarp()\n",
    "    flt.inputs.ref_file = os.path.join(raw_target_dir,'fmap','overall_avg.nii.gz')\n",
    "    flt.inputs.in_file = fn\n",
    "    flt.inputs.out_file = fn.replace('.nii.gz','_fnirted.nii.gz')\n",
    "    flt.inputs.field_file = coef_fn\n",
    "#     flt.inputs.premat = mat_fn\n",
    "    flt.run()\n",
    "# applywarp --ref=MNI152_T1_2mm.nii --in=func.nii --out=funcInMNI.nii --warp=warp_struct2mni.nii --premat=func2struct.mat\n",
    "\n"
   ]
  },
  {
   "cell_type": "code",
   "execution_count": null,
   "metadata": {
    "collapsed": true
   },
   "outputs": [],
   "source": []
  }
 ],
 "metadata": {
  "kernelspec": {
   "display_name": "Python [analysis]",
   "language": "python",
   "name": "Python [analysis]"
  },
  "language_info": {
   "codemirror_mode": {
    "name": "ipython",
    "version": 2
   },
   "file_extension": ".py",
   "mimetype": "text/x-python",
   "name": "python",
   "nbconvert_exporter": "python",
   "pygments_lexer": "ipython2",
   "version": "2.7.12"
  }
 },
 "nbformat": 4,
 "nbformat_minor": 0
}
