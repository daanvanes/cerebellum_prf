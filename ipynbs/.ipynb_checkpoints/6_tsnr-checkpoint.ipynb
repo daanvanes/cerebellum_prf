{
 "cells": [
  {
   "cell_type": "code",
   "execution_count": 1,
   "metadata": {
    "collapsed": true
   },
   "outputs": [],
   "source": [
    "import os\n",
    "import glob\n",
    "import numpy as np\n",
    "import nibabel as nb\n",
    "from nipype.interfaces import fsl\n",
    "import nipype.pipeline.engine as pe\n",
    "from joblib import Parallel, delayed\n",
    "\n"
   ]
  },
  {
   "cell_type": "code",
   "execution_count": 3,
   "metadata": {
    "collapsed": false
   },
   "outputs": [],
   "source": [
    "# setup dirs\n",
    "home_dir = '/home/shared/2018/visual/cerebellum_prf/'\n",
    "der_dir = os.path.join(home_dir,'derivatives')\n",
    "out_dir = os.path.join(home_dir,'derivatives','pp')\n",
    "tsnr_out_dir = os.path.join(out_dir,'tsnr')\n",
    "if not os.path.isdir(tsnr_out_dir): os.mkdir(tsnr_out_dir)\n",
    "\n",
    "# in_dir = os.path.join(out_dir,'ng')\n",
    "# in_postFix = '_resampled_fnirted_smoothed_sgtf_ng'\n",
    "\n",
    "\n",
    "in_dir = os.path.join(out_dir,'sgtf')\n",
    "in_postFix = '_resampled_fnirted_smoothed_sgtf'\n",
    "    \n",
    "subs = ['01']#,'02','03']\n",
    "sess = {\n",
    "    '01':['01','03','02'],\n",
    "    '02':['01','02','03','04'],\n",
    "    '03':['01','02','03']\n",
    "}\n",
    "\n",
    "TR = 1.5\n",
    "space = 'MNI152NLin2009cAsym' # 'T1w'"
   ]
  },
  {
   "cell_type": "code",
   "execution_count": 4,
   "metadata": {
    "collapsed": true
   },
   "outputs": [],
   "source": [
    "def compute_tsnr(in_dir,out_dir,fn):\n",
    "\n",
    "    out_fn = fn.replace(in_dir,out_dir).replace('.nii.gz','_tsnr.nii.gz')\n",
    "\n",
    "    if not os.path.isfile(out_fn):\n",
    "        \n",
    "        img = nb.load(fn)\n",
    "        data = img.get_data()\n",
    "        tsnr = np.mean(data,axis=-1)/np.std(data,axis=-1)\n",
    "        new_img = nb.Nifti1Image(tsnr,affine=img.affine,header=img.header)\n",
    "        nb.save(new_img,out_fn)\n",
    "\n"
   ]
  },
  {
   "cell_type": "code",
   "execution_count": 6,
   "metadata": {
    "collapsed": false
   },
   "outputs": [
    {
     "name": "stderr",
     "output_type": "stream",
     "text": [
      "[Parallel(n_jobs=10)]: Using backend LokyBackend with 10 concurrent workers.\n",
      "[Parallel(n_jobs=10)]: Done   0 out of   0 | elapsed:    0.0s finished\n",
      "[Parallel(n_jobs=10)]: Using backend LokyBackend with 10 concurrent workers.\n",
      "[Parallel(n_jobs=10)]: Done   0 out of   0 | elapsed:    0.0s finished\n",
      "[Parallel(n_jobs=10)]: Using backend LokyBackend with 10 concurrent workers.\n",
      "[Parallel(n_jobs=10)]: Done   0 out of   0 | elapsed:    0.0s finished\n"
     ]
    }
   ],
   "source": [
    "# tsnr\n",
    "sgtf_out_dir = os.path.join(out_dir,'sgtf')\n",
    "\n",
    "tsnr_out_dir = os.path.join(out_dir,'tsnr')\n",
    "if not os.path.isdir(tsnr_out_dir): os.mkdir(tsnr_out_dir)\n",
    "    \n",
    "for sub in subs:\n",
    "    \n",
    "    sj_tsnr_out_dir = os.path.join(tsnr_out_dir,'sub-%s'%sub)\n",
    "    if not os.path.isdir(sj_tsnr_out_dir): os.mkdir(sj_tsnr_out_dir)\n",
    "\n",
    "    sj_in_dir = os.path.join(in_dir,'sub-%s'%sub)\n",
    "    \n",
    "    for ses in sess[sub]:\n",
    "        fns = sorted(glob.glob(os.path.join(sj_in_dir,'sub-%s_ses-%s*bold_space-%s_preproc%s.nii.gz'%(sub,ses,space,in_postFix))))\n",
    "\n",
    "        Parallel(n_jobs=10,verbose=9)(delayed(compute_tsnr)(sj_in_dir,sj_tsnr_out_dir,fn) for fn in fns)\n",
    "\n",
    "\n"
   ]
  },
  {
   "cell_type": "code",
   "execution_count": null,
   "metadata": {
    "collapsed": true
   },
   "outputs": [],
   "source": []
  },
  {
   "cell_type": "code",
   "execution_count": null,
   "metadata": {
    "collapsed": true
   },
   "outputs": [],
   "source": []
  }
 ],
 "metadata": {
  "kernelspec": {
   "display_name": "Python [analysis]",
   "language": "python",
   "name": "Python [analysis]"
  },
  "language_info": {
   "codemirror_mode": {
    "name": "ipython",
    "version": 2
   },
   "file_extension": ".py",
   "mimetype": "text/x-python",
   "name": "python",
   "nbconvert_exporter": "python",
   "pygments_lexer": "ipython2",
   "version": "2.7.12"
  }
 },
 "nbformat": 4,
 "nbformat_minor": 0
}
