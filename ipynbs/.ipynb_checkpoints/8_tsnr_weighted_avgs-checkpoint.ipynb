{
 "cells": [
  {
   "cell_type": "code",
   "execution_count": 1,
   "metadata": {
    "collapsed": false
   },
   "outputs": [
    {
     "name": "stderr",
     "output_type": "stream",
     "text": [
      "/home/vanes/anaconda2/envs/analysis/lib/python2.7/site-packages/ipykernel/__main__.py:5: DeprecationWarning: Python2 support is deprecated and will be removed in a future release. Consider switching to Python3.\n",
      "/home/vanes/anaconda2/envs/analysis/lib/python2.7/site-packages/sklearn/utils/extmath.py:23: RuntimeWarning: numpy.dtype size changed, may indicate binary incompatibility. Expected 96, got 88\n",
      "  from ._logistic_sigmoid import _log_logistic_sigmoid\n",
      "/home/vanes/anaconda2/envs/analysis/lib/python2.7/site-packages/sklearn/metrics/cluster/supervised.py:25: RuntimeWarning: numpy.dtype size changed, may indicate binary incompatibility. Expected 96, got 88\n",
      "  from .expected_mutual_info_fast import expected_mutual_information\n",
      "/home/vanes/anaconda2/envs/analysis/lib/python2.7/site-packages/sklearn/metrics/pairwise.py:31: RuntimeWarning: numpy.dtype size changed, may indicate binary incompatibility. Expected 96, got 88\n",
      "  from .pairwise_fast import _chi2_kernel_fast, _sparse_manhattan\n",
      "/home/vanes/anaconda2/envs/analysis/lib/python2.7/site-packages/sklearn/utils/random.py:10: RuntimeWarning: numpy.dtype size changed, may indicate binary incompatibility. Expected 96, got 88\n",
      "  from ._random import sample_without_replacement\n",
      "/home/vanes/anaconda2/envs/analysis/lib/python2.7/site-packages/sklearn/neighbors/__init__.py:6: RuntimeWarning: numpy.dtype size changed, may indicate binary incompatibility. Expected 96, got 88\n",
      "  from .ball_tree import BallTree\n"
     ]
    }
   ],
   "source": [
    "import glob \n",
    "import os\n",
    "import numpy as np\n",
    "import nibabel as nb\n",
    "from nilearn import image\n",
    "from joblib import Parallel, delayed"
   ]
  },
  {
   "cell_type": "code",
   "execution_count": 20,
   "metadata": {
    "collapsed": false
   },
   "outputs": [],
   "source": [
    "# setup dirs\n",
    "home_dir = '/home/shared/2018/visual/cerebellum_prf/'\n",
    "der_dir = os.path.join(home_dir,'derivatives')\n",
    "out_dir = os.path.join(home_dir,'derivatives','pp')\n",
    "tsnrt_out_dir = os.path.join(out_dir,'tsnr')\n",
    "stand_out_dir = os.path.join(out_dir,'stand')\n",
    "\n",
    "subs = ['01']#,'02','03']\n",
    "# sess = {\n",
    "#     '01':['01','03','02'],\n",
    "#     '02':['01','02','03','04'],\n",
    "#     '03':['01','02','03']\n",
    "# }\n",
    "sess_combs = {\n",
    "    '01':[['01','02','03']],\n",
    "    '02':[['01','02','03','04']],\n",
    "    '03':[['01','02','03']],#['01','02','03']\n",
    "}\n",
    "\n",
    "TR = 1.5\n",
    "space = 'MNI152NLin2009cAsym' # 'T1w'\n",
    "\n",
    "\n",
    "# in_postFix = '_resampled_fnirted_smoothed_sgtf_ng'\n",
    "in_postFix = '_resampled_fnirted_smoothed_sgtf'\n",
    "\n",
    "dtype = 'zscore' # or psc\n",
    "stand_out_dir = os.path.join(out_dir,dtype)\n",
    "if not os.path.isdir(stand_out_dir): os.mkdir(stand_out_dir)\n",
    "\n",
    "n_folds = 10\n",
    "proportion_train = 0.75"
   ]
  },
  {
   "cell_type": "code",
   "execution_count": 3,
   "metadata": {
    "collapsed": true
   },
   "outputs": [],
   "source": [
    "def load_data(fn):\n",
    "    img = nb.load(fn)\n",
    "    data = img.get_data()\n",
    "\n",
    "    return data\n",
    "    "
   ]
  },
  {
   "cell_type": "code",
   "execution_count": 24,
   "metadata": {
    "collapsed": false
   },
   "outputs": [
    {
     "name": "stderr",
     "output_type": "stream",
     "text": [
      "/home/vanes/anaconda2/envs/analysis/lib/python2.7/site-packages/ipykernel/__main__.py:46: VisibleDeprecationWarning: using a non-integer number instead of an integer will result in an error in the future\n"
     ]
    },
    {
     "name": "stdout",
     "output_type": "stream",
     "text": [
      "now computing tsnr weighted mean over runs across sessions, train set fold 0\n",
      "now computing tsnr weighted mean over runs across sessions, test set fold 0\n",
      "now computing tsnr weighted mean over runs across sessions, train set fold 1\n",
      "now computing tsnr weighted mean over runs across sessions, test set fold 1\n",
      "now computing tsnr weighted mean over runs across sessions, train set fold 2\n",
      "now computing tsnr weighted mean over runs across sessions, test set fold 2\n",
      "now computing tsnr weighted mean over runs across sessions, train set fold 3\n",
      "now computing tsnr weighted mean over runs across sessions, test set fold 3\n",
      "now computing tsnr weighted mean over runs across sessions, train set fold 4\n",
      "now computing tsnr weighted mean over runs across sessions, test set fold 4\n",
      "now computing tsnr weighted mean over runs across sessions, train set fold 5\n",
      "now computing tsnr weighted mean over runs across sessions, test set fold 5\n",
      "now computing tsnr weighted mean over runs across sessions, train set fold 6\n",
      "now computing tsnr weighted mean over runs across sessions, test set fold 6\n",
      "now computing tsnr weighted mean over runs across sessions, train set fold 7\n",
      "now computing tsnr weighted mean over runs across sessions, test set fold 7\n",
      "now computing tsnr weighted mean over runs across sessions, train set fold 8\n",
      "now computing tsnr weighted mean over runs across sessions, test set fold 8\n",
      "now computing tsnr weighted mean over runs across sessions, train set fold 9\n",
      "now computing tsnr weighted mean over runs across sessions, test set fold 9\n"
     ]
    }
   ],
   "source": [
    "# # create avg files\n",
    "for sub in subs:\n",
    "    for sess in sess_combs[sub]:\n",
    "        all_sess_avg_data = []\n",
    "        all_sess_tsnr_data = []\n",
    "        for ses in sess:\n",
    "\n",
    "            # first collect all data\n",
    "            sj_stand_out_dir = os.path.join(stand_out_dir,'sub-%s'%sub)\n",
    "            fns = sorted(glob.glob(os.path.join(sj_stand_out_dir,'sub-%s_ses-%s*bold_space-%s_preproc%s_zscore.nii.gz'%(sub,ses,space,in_postFix))))\n",
    "\n",
    "            all_data = Parallel(n_jobs=len(fns),verbose=9)(delayed(load_data)(fn)  for fn in fns)\n",
    "\n",
    "            all_sess_avg_data.extend(all_data)\n",
    "            sample_img = nb.load(fns[0])\n",
    "            # now get tsnrs for weighted avg\n",
    "            sj_tsnr_out_dir = os.path.join(out_dir,'tsnr','sub-%s'%sub)\n",
    "            fns = sorted(glob.glob(os.path.join(sj_tsnr_out_dir,'sub-%s_ses-%s*bold_space-%s_preproc%s_tsnr.nii.gz'%(sub,ses,space,in_postFix))))\n",
    "\n",
    "            all_tsnrs = Parallel(n_jobs=len(fns),verbose=9)(delayed(load_data)(fn)  for fn in fns)\n",
    "\n",
    "            # make sure tsnrs run from 0.01 to maxval\n",
    "            all_tsnrs = np.array(all_tsnrs)\n",
    "            all_tsnrs[np.isnan(all_tsnrs)] = 0\n",
    "            all_tsnrs[np.isinf(all_tsnrs)] = 0\n",
    "            all_tsnrs += np.abs(np.min(all_tsnrs))+0.01\n",
    "\n",
    "            all_sess_tsnr_data.extend(all_tsnrs)\n",
    "            \n",
    "        all_sess_avg_data = np.nan_to_num(all_sess_avg_data)\n",
    "        all_sess_tsnr_data = np.array(all_sess_tsnr_data)\n",
    "        \n",
    "        print 'now computing tsnr weighted mean over runs across sessions'\n",
    "        avg_over_runs = np.average(all_sess_avg_data,weights=np.tile(all_sess_tsnr_data[:,:,:,:,np.newaxis],(1,1,1,1,120)),axis=0)\n",
    "        new_img = nb.Nifti1Image(avg_over_runs,affine=sample_img.affine,header=sample_img.header)\n",
    "        out_fn = os.path.join(sj_stand_out_dir,'tsnr_weighted_mean_of%s_over_runs_ses_%s.nii.gz'%(in_postFix,''.join(sess)))\n",
    "        nb.save(new_img,out_fn)\n",
    "\n",
    "        # now create test and train sets\n",
    "        n_runs = np.shape(all_sess_tsnr_data)[0]\n",
    "        n_train = np.ceil(n_runs*proportion_train)\n",
    "\n",
    "        for k in range(n_folds):\n",
    "            t  = np.arange(n_runs)\n",
    "            np.random.shuffle(t)\n",
    "            train_runs = t[:n_train]\n",
    "            test_runs = t[n_train:]\n",
    "            \n",
    "            print 'now computing tsnr weighted mean over runs across sessions, train set fold %d'%k\n",
    "            avg_over_runs = np.average(all_sess_avg_data[train_runs],weights=np.tile(all_sess_tsnr_data[train_runs,:,:,:,np.newaxis],(1,1,1,1,120)),axis=0)\n",
    "            new_img = nb.Nifti1Image(avg_over_runs,affine=sample_img.affine,header=sample_img.header)\n",
    "            out_fn = os.path.join(sj_stand_out_dir,'tsnr_weighted_mean_of%s_over_runs_ses_%s_train_%d.nii.gz'%(in_postFix,''.join(sess),k))\n",
    "            nb.save(new_img,out_fn)\n",
    "            \n",
    "            print 'now computing tsnr weighted mean over runs across sessions, test set fold %d'%k\n",
    "            avg_over_runs = np.average(all_sess_avg_data[test_runs],weights=np.tile(all_sess_tsnr_data[test_runs,:,:,:,np.newaxis],(1,1,1,1,120)),axis=0)\n",
    "            new_img = nb.Nifti1Image(avg_over_runs,affine=sample_img.affine,header=sample_img.header)\n",
    "            out_fn = os.path.join(sj_stand_out_dir,'tsnr_weighted_mean_of%s_over_runs_ses_%s_test_%d.nii.gz'%(in_postFix,''.join(sess),k))\n",
    "            nb.save(new_img,out_fn)\n"
   ]
  },
  {
   "cell_type": "code",
   "execution_count": null,
   "metadata": {
    "collapsed": true
   },
   "outputs": [],
   "source": []
  }
 ],
 "metadata": {
  "kernelspec": {
   "display_name": "Python [analysis]",
   "language": "python",
   "name": "Python [analysis]"
  },
  "language_info": {
   "codemirror_mode": {
    "name": "ipython",
    "version": 2
   },
   "file_extension": ".py",
   "mimetype": "text/x-python",
   "name": "python",
   "nbconvert_exporter": "python",
   "pygments_lexer": "ipython2",
   "version": "2.7.12"
  }
 },
 "nbformat": 4,
 "nbformat_minor": 0
}
