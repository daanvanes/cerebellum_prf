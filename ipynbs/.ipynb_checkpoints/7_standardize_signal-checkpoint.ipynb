{
 "cells": [
  {
   "cell_type": "code",
   "execution_count": 2,
   "metadata": {
    "collapsed": false
   },
   "outputs": [
    {
     "name": "stderr",
     "output_type": "stream",
     "text": [
      "/home/vanes/anaconda2/envs/analysis/lib/python2.7/site-packages/ipykernel/__main__.py:7: DeprecationWarning: Python2 support is deprecated and will be removed in a future release. Consider switching to Python3.\n",
      "/home/vanes/anaconda2/envs/analysis/lib/python2.7/site-packages/sklearn/utils/extmath.py:23: RuntimeWarning: numpy.dtype size changed, may indicate binary incompatibility. Expected 96, got 88\n",
      "  from ._logistic_sigmoid import _log_logistic_sigmoid\n",
      "/home/vanes/anaconda2/envs/analysis/lib/python2.7/site-packages/sklearn/metrics/cluster/supervised.py:25: RuntimeWarning: numpy.dtype size changed, may indicate binary incompatibility. Expected 96, got 88\n",
      "  from .expected_mutual_info_fast import expected_mutual_information\n",
      "/home/vanes/anaconda2/envs/analysis/lib/python2.7/site-packages/sklearn/metrics/pairwise.py:31: RuntimeWarning: numpy.dtype size changed, may indicate binary incompatibility. Expected 96, got 88\n",
      "  from .pairwise_fast import _chi2_kernel_fast, _sparse_manhattan\n",
      "/home/vanes/anaconda2/envs/analysis/lib/python2.7/site-packages/sklearn/utils/random.py:10: RuntimeWarning: numpy.dtype size changed, may indicate binary incompatibility. Expected 96, got 88\n",
      "  from ._random import sample_without_replacement\n",
      "/home/vanes/anaconda2/envs/analysis/lib/python2.7/site-packages/sklearn/neighbors/__init__.py:6: RuntimeWarning: numpy.dtype size changed, may indicate binary incompatibility. Expected 96, got 88\n",
      "  from .ball_tree import BallTree\n"
     ]
    }
   ],
   "source": [
    "import os\n",
    "import glob\n",
    "import numpy as np\n",
    "import nibabel as nb\n",
    "from nipype.interfaces import fsl\n",
    "import nipype.pipeline.engine as pe\n",
    "from nilearn.image import resample_to_img\n",
    "from nilearn import image\n",
    "from joblib import Parallel, delayed"
   ]
  },
  {
   "cell_type": "code",
   "execution_count": 3,
   "metadata": {
    "collapsed": false
   },
   "outputs": [],
   "source": [
    "# setup dirs\n",
    "home_dir = '/home/shared/2018/visual/cerebellum_prf/'\n",
    "der_dir = os.path.join(home_dir,'derivatives')\n",
    "out_dir = os.path.join(home_dir,'derivatives','pp')\n",
    "\n",
    "# in_dir = os.path.join(out_dir,'ng')\n",
    "# in_postFix = '_resampled_fnirted_smoothed_sgtf_ng'\n",
    "\n",
    "\n",
    "in_dir = os.path.join(out_dir,'sgtf')\n",
    "in_postFix = '_resampled_fnirted_smoothed_sgtf'\n",
    "\n",
    "subs = ['01']#,'02','03']\n",
    "sess = {\n",
    "    '01':['01','03','02'],\n",
    "    '02':['01','02','03','04'],\n",
    "    '03':['01','02','03']\n",
    "}\n",
    "\n",
    "TR = 1.5\n",
    "space = 'MNI152NLin2009cAsym' # 'T1w'\n",
    "\n",
    "dtype = 'zscore' # or psc\n",
    "stand_out_dir = os.path.join(out_dir,dtype)\n",
    "if not os.path.isdir(stand_out_dir): os.mkdir(stand_out_dir)\n"
   ]
  },
  {
   "cell_type": "code",
   "execution_count": 4,
   "metadata": {
    "collapsed": false
   },
   "outputs": [],
   "source": [
    "def perform_standardization(sj_sgtf_out_dir,sj_stand_out_dir,fn,dtype):\n",
    "    \n",
    "    out_fn = fn.replace(sj_sgtf_out_dir,sj_stand_out_dir).replace('.nii.gz','_%s.nii.gz'%dtype)\n",
    "\n",
    "    if not os.path.isfile(out_fn):\n",
    "\n",
    "        # load img\n",
    "        img = nb.load(fn)\n",
    "        data = img.get_data()\n",
    "\n",
    "        mdata = np.nanmedian(data,axis=-1)[:,:,:,np.newaxis]\n",
    "        stddata = np.nanstd(data,axis=-1)[:,:,:,np.newaxis]\n",
    "\n",
    "        if dtype == 'zscore':\n",
    "            standard_data = (data - mdata) / stddata\n",
    "        elif dtype == 'psc':\n",
    "            standard_data =  100.0 * (data - mdata) / mdata\n",
    "\n",
    "        new_img = nb.Nifti1Image(standard_data,affine=img.affine,header=img.header)\n",
    "\n",
    "        nb.save(new_img,out_fn)    "
   ]
  },
  {
   "cell_type": "code",
   "execution_count": 5,
   "metadata": {
    "collapsed": false
   },
   "outputs": [
    {
     "name": "stdout",
     "output_type": "stream",
     "text": [
      "now computing zscore for sub 01, ses 01\n"
     ]
    },
    {
     "ename": "NameError",
     "evalue": "name 'in_postFIX' is not defined",
     "output_type": "error",
     "traceback": [
      "\u001b[0;31m---------------------------------------------------------------------------\u001b[0m",
      "\u001b[0;31mNameError\u001b[0m                                 Traceback (most recent call last)",
      "\u001b[0;32m<ipython-input-5-0a5ea531201b>\u001b[0m in \u001b[0;36m<module>\u001b[0;34m()\u001b[0m\n\u001b[1;32m      8\u001b[0m         \u001b[0msj_in_dir\u001b[0m \u001b[0;34m=\u001b[0m \u001b[0mos\u001b[0m\u001b[0;34m.\u001b[0m\u001b[0mpath\u001b[0m\u001b[0;34m.\u001b[0m\u001b[0mjoin\u001b[0m\u001b[0;34m(\u001b[0m\u001b[0min_dir\u001b[0m\u001b[0;34m,\u001b[0m\u001b[0;34m'sub-%s'\u001b[0m\u001b[0;34m%\u001b[0m\u001b[0msub\u001b[0m\u001b[0;34m)\u001b[0m\u001b[0;34m\u001b[0m\u001b[0m\n\u001b[1;32m      9\u001b[0m \u001b[0;34m\u001b[0m\u001b[0m\n\u001b[0;32m---> 10\u001b[0;31m         \u001b[0mfns\u001b[0m \u001b[0;34m=\u001b[0m \u001b[0msorted\u001b[0m\u001b[0;34m(\u001b[0m\u001b[0mglob\u001b[0m\u001b[0;34m.\u001b[0m\u001b[0mglob\u001b[0m\u001b[0;34m(\u001b[0m\u001b[0mos\u001b[0m\u001b[0;34m.\u001b[0m\u001b[0mpath\u001b[0m\u001b[0;34m.\u001b[0m\u001b[0mjoin\u001b[0m\u001b[0;34m(\u001b[0m\u001b[0msj_in_dir\u001b[0m\u001b[0;34m,\u001b[0m\u001b[0;34m'sub-%s_ses-%s*bold_space-%s_preproc%s.nii.gz'\u001b[0m\u001b[0;34m%\u001b[0m\u001b[0;34m(\u001b[0m\u001b[0msub\u001b[0m\u001b[0;34m,\u001b[0m\u001b[0mses\u001b[0m\u001b[0;34m,\u001b[0m\u001b[0mspace\u001b[0m\u001b[0;34m,\u001b[0m\u001b[0min_postFIX\u001b[0m\u001b[0;34m)\u001b[0m\u001b[0;34m)\u001b[0m\u001b[0;34m)\u001b[0m\u001b[0;34m)\u001b[0m\u001b[0;34m\u001b[0m\u001b[0m\n\u001b[0m\u001b[1;32m     11\u001b[0m \u001b[0;34m\u001b[0m\u001b[0m\n\u001b[1;32m     12\u001b[0m         \u001b[0mParallel\u001b[0m\u001b[0;34m(\u001b[0m\u001b[0mn_jobs\u001b[0m\u001b[0;34m=\u001b[0m\u001b[0;36m6\u001b[0m\u001b[0;34m,\u001b[0m\u001b[0mverbose\u001b[0m\u001b[0;34m=\u001b[0m\u001b[0;36m9\u001b[0m\u001b[0;34m)\u001b[0m\u001b[0;34m(\u001b[0m\u001b[0mdelayed\u001b[0m\u001b[0;34m(\u001b[0m\u001b[0mperform_standardization\u001b[0m\u001b[0;34m)\u001b[0m\u001b[0;34m(\u001b[0m\u001b[0msj_in_dir\u001b[0m\u001b[0;34m,\u001b[0m\u001b[0msj_out_dir\u001b[0m\u001b[0;34m,\u001b[0m\u001b[0mfn\u001b[0m\u001b[0;34m,\u001b[0m\u001b[0mdtype\u001b[0m\u001b[0;34m)\u001b[0m  \u001b[0;32mfor\u001b[0m \u001b[0mfn\u001b[0m \u001b[0;32min\u001b[0m \u001b[0mfns\u001b[0m\u001b[0;34m)\u001b[0m\u001b[0;34m\u001b[0m\u001b[0m\n",
      "\u001b[0;31mNameError\u001b[0m: name 'in_postFIX' is not defined"
     ]
    }
   ],
   "source": [
    "for sub in subs:\n",
    "    for ses in sess[sub]:\n",
    "        print('now computing %s for sub %s, ses %s'%(dtype,sub,ses))\n",
    "\n",
    "        sj_out_dir = os.path.join(stand_out_dir,'sub-%s'%sub)\n",
    "        if not os.path.isdir(sj_out_dir): os.mkdir(sj_out_dir)\n",
    "\n",
    "        sj_in_dir = os.path.join(in_dir,'sub-%s'%sub)\n",
    "        \n",
    "        fns = sorted(glob.glob(os.path.join(sj_in_dir,'sub-%s_ses-%s*bold_space-%s_preproc%s.nii.gz'%(sub,ses,space,in_postF))))\n",
    "        \n",
    "        Parallel(n_jobs=6,verbose=9)(delayed(perform_standardization)(sj_in_dir,sj_out_dir,fn,dtype)  for fn in fns)\n",
    "\n",
    "print 'done!'"
   ]
  },
  {
   "cell_type": "code",
   "execution_count": null,
   "metadata": {
    "collapsed": true
   },
   "outputs": [],
   "source": []
  }
 ],
 "metadata": {
  "kernelspec": {
   "display_name": "Python [analysis]",
   "language": "python",
   "name": "Python [analysis]"
  },
  "language_info": {
   "codemirror_mode": {
    "name": "ipython",
    "version": 2
   },
   "file_extension": ".py",
   "mimetype": "text/x-python",
   "name": "python",
   "nbconvert_exporter": "python",
   "pygments_lexer": "ipython2",
   "version": "2.7.12"
  }
 },
 "nbformat": 4,
 "nbformat_minor": 0
}
