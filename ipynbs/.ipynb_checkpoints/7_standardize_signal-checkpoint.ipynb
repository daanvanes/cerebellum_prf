{
 "cells": [
  {
   "cell_type": "markdown",
   "metadata": {
    "collapsed": false
   },
   "source": [
    "# standardize signal (psc or zscore)"
   ]
  },
  {
   "cell_type": "code",
   "execution_count": null,
   "metadata": {
    "collapsed": true
   },
   "outputs": [],
   "source": [
    "import os\n",
    "import glob\n",
    "import numpy as np\n",
    "import nibabel as nb\n",
    "from nipype.interfaces import fsl\n",
    "import nipype.pipeline.engine as pe\n",
    "from nilearn.image import resample_to_img\n",
    "from nilearn import image\n",
    "from joblib import Parallel, delayed"
   ]
  },
  {
   "cell_type": "code",
   "execution_count": 8,
   "metadata": {
    "collapsed": false
   },
   "outputs": [],
   "source": [
    "# setup dirs\n",
    "home_dir = '/home/shared/2018/visual/cerebellum_prf/'\n",
    "der_dir = os.path.join(home_dir,'derivatives')\n",
    "out_dir = os.path.join(home_dir,'derivatives','pp')\n",
    "\n",
    "# in_dir = os.path.join(out_dir,'ng')\n",
    "# in_postFix = '_resampled_fnirted_smoothed_sgtf_ng'\n",
    "\n",
    "\n",
    "in_dir = os.path.join(out_dir,'sgtf')\n",
    "in_postFix = '_resampled_fnirted_smoothed_sgtf'\n",
    "\n",
    "subs = ['02','03']#,'02','03']\n",
    "sess = {\n",
    "    '01':['01','03','02'],\n",
    "    '02':['01','02','03','04'],\n",
    "    '03':['01','02','03']\n",
    "}\n",
    "\n",
    "TR = 1.5\n",
    "space = 'MNI152NLin2009cAsym' # 'T1w'\n",
    "\n",
    "dtype = 'zscore' # or psc\n",
    "stand_out_dir = os.path.join(out_dir,dtype)\n",
    "if not os.path.isdir(stand_out_dir): os.mkdir(stand_out_dir)\n"
   ]
  },
  {
   "cell_type": "code",
   "execution_count": 9,
   "metadata": {
    "collapsed": false
   },
   "outputs": [],
   "source": [
    "def perform_standardization(sj_sgtf_out_dir,sj_stand_out_dir,fn,dtype):\n",
    "    \n",
    "    out_fn = fn.replace(sj_sgtf_out_dir,sj_stand_out_dir).replace('.nii.gz','_%s.nii.gz'%dtype)\n",
    "\n",
    "    if not os.path.isfile(out_fn):\n",
    "\n",
    "        # load img\n",
    "        img = nb.load(fn)\n",
    "        data = img.get_data()\n",
    "\n",
    "        mdata = np.nanmedian(data,axis=-1)[:,:,:,np.newaxis]\n",
    "        stddata = np.nanstd(data,axis=-1)[:,:,:,np.newaxis]\n",
    "\n",
    "        if dtype == 'zscore':\n",
    "            standard_data = (data - mdata) / stddata\n",
    "        elif dtype == 'psc':\n",
    "            standard_data =  100.0 * (data - mdata) / mdata\n",
    "\n",
    "        new_img = nb.Nifti1Image(standard_data,affine=img.affine,header=img.header)\n",
    "\n",
    "        nb.save(new_img,out_fn)    "
   ]
  },
  {
   "cell_type": "code",
   "execution_count": 10,
   "metadata": {
    "collapsed": false
   },
   "outputs": [
    {
     "name": "stdout",
     "output_type": "stream",
     "text": [
      "now computing zscore for sub 02, ses 01\n"
     ]
    },
    {
     "name": "stderr",
     "output_type": "stream",
     "text": [
      "[Parallel(n_jobs=6)]: Using backend LokyBackend with 6 concurrent workers.\n",
      "[Parallel(n_jobs=6)]: Done   4 out of  13 | elapsed:  1.0min remaining:  2.3min\n",
      "[Parallel(n_jobs=6)]: Done   6 out of  13 | elapsed:  1.1min remaining:  1.2min\n",
      "[Parallel(n_jobs=6)]: Done   8 out of  13 | elapsed:  2.1min remaining:  1.3min\n",
      "[Parallel(n_jobs=6)]: Done  10 out of  13 | elapsed:  2.1min remaining:   38.4s\n",
      "[Parallel(n_jobs=6)]: Done  13 out of  13 | elapsed:  3.0min finished\n",
      "[Parallel(n_jobs=6)]: Using backend LokyBackend with 6 concurrent workers.\n"
     ]
    },
    {
     "name": "stdout",
     "output_type": "stream",
     "text": [
      "now computing zscore for sub 02, ses 02\n"
     ]
    },
    {
     "name": "stderr",
     "output_type": "stream",
     "text": [
      "[Parallel(n_jobs=6)]: Done   2 out of   8 | elapsed:  1.1min remaining:  3.2min\n",
      "[Parallel(n_jobs=6)]: Done   3 out of   8 | elapsed:  1.1min remaining:  1.8min\n",
      "[Parallel(n_jobs=6)]: Done   4 out of   8 | elapsed:  1.1min remaining:  1.1min\n",
      "[Parallel(n_jobs=6)]: Done   5 out of   8 | elapsed:  1.1min remaining:   38.8s\n",
      "[Parallel(n_jobs=6)]: Done   6 out of   8 | elapsed:  1.1min remaining:   22.6s\n",
      "[Parallel(n_jobs=6)]: Done   8 out of   8 | elapsed:  2.1min remaining:    0.0s\n",
      "[Parallel(n_jobs=6)]: Done   8 out of   8 | elapsed:  2.1min finished\n",
      "[Parallel(n_jobs=6)]: Using backend LokyBackend with 6 concurrent workers.\n"
     ]
    },
    {
     "name": "stdout",
     "output_type": "stream",
     "text": [
      "now computing zscore for sub 02, ses 03\n"
     ]
    },
    {
     "name": "stderr",
     "output_type": "stream",
     "text": [
      "[Parallel(n_jobs=6)]: Done   3 out of  10 | elapsed:   55.6s remaining:  2.2min\n",
      "[Parallel(n_jobs=6)]: Done   5 out of  10 | elapsed:   55.7s remaining:   55.7s\n",
      "[Parallel(n_jobs=6)]: Done   7 out of  10 | elapsed:  1.8min remaining:   46.2s\n",
      "[Parallel(n_jobs=6)]: Done  10 out of  10 | elapsed:  1.8min finished\n",
      "[Parallel(n_jobs=6)]: Using backend LokyBackend with 6 concurrent workers.\n"
     ]
    },
    {
     "name": "stdout",
     "output_type": "stream",
     "text": [
      "now computing zscore for sub 02, ses 04\n"
     ]
    },
    {
     "name": "stderr",
     "output_type": "stream",
     "text": [
      "[Parallel(n_jobs=6)]: Done   6 out of  15 | elapsed:   57.4s remaining:  1.4min\n",
      "[Parallel(n_jobs=6)]: Done   8 out of  15 | elapsed:  1.8min remaining:  1.6min\n",
      "[Parallel(n_jobs=6)]: Done  10 out of  15 | elapsed:  1.9min remaining:   56.1s\n",
      "[Parallel(n_jobs=6)]: Done  12 out of  15 | elapsed:  1.9min remaining:   28.2s\n",
      "[Parallel(n_jobs=6)]: Done  15 out of  15 | elapsed:  2.7min finished\n",
      "[Parallel(n_jobs=6)]: Using backend LokyBackend with 6 concurrent workers.\n"
     ]
    },
    {
     "name": "stdout",
     "output_type": "stream",
     "text": [
      "now computing zscore for sub 03, ses 01\n"
     ]
    },
    {
     "name": "stderr",
     "output_type": "stream",
     "text": [
      "[Parallel(n_jobs=6)]: Done   3 out of  12 | elapsed:   55.5s remaining:  2.8min\n",
      "[Parallel(n_jobs=6)]: Done   5 out of  12 | elapsed:   56.1s remaining:  1.3min\n",
      "[Parallel(n_jobs=6)]: Done   7 out of  12 | elapsed:  1.8min remaining:  1.3min\n",
      "[Parallel(n_jobs=6)]: Done   9 out of  12 | elapsed:  1.9min remaining:   37.5s\n",
      "[Parallel(n_jobs=6)]: Done  12 out of  12 | elapsed:  1.9min finished\n",
      "[Parallel(n_jobs=6)]: Using backend LokyBackend with 6 concurrent workers.\n"
     ]
    },
    {
     "name": "stdout",
     "output_type": "stream",
     "text": [
      "now computing zscore for sub 03, ses 02\n"
     ]
    },
    {
     "name": "stderr",
     "output_type": "stream",
     "text": [
      "[Parallel(n_jobs=6)]: Done   3 out of  12 | elapsed:   57.2s remaining:  2.9min\n",
      "[Parallel(n_jobs=6)]: Done   5 out of  12 | elapsed:   57.9s remaining:  1.4min\n",
      "[Parallel(n_jobs=6)]: Done   7 out of  12 | elapsed:  1.9min remaining:  1.3min\n",
      "[Parallel(n_jobs=6)]: Done   9 out of  12 | elapsed:  1.9min remaining:   37.8s\n",
      "[Parallel(n_jobs=6)]: Done  12 out of  12 | elapsed:  1.9min finished\n",
      "[Parallel(n_jobs=6)]: Using backend LokyBackend with 6 concurrent workers.\n"
     ]
    },
    {
     "name": "stdout",
     "output_type": "stream",
     "text": [
      "now computing zscore for sub 03, ses 03\n"
     ]
    },
    {
     "name": "stderr",
     "output_type": "stream",
     "text": [
      "[Parallel(n_jobs=6)]: Done   3 out of  12 | elapsed:  8.5min remaining: 25.5min\n",
      "[Parallel(n_jobs=6)]: Done   5 out of  12 | elapsed:  8.5min remaining: 11.9min\n",
      "[Parallel(n_jobs=6)]: Done   7 out of  12 | elapsed:  9.6min remaining:  6.9min\n",
      "[Parallel(n_jobs=6)]: Done   9 out of  12 | elapsed:  9.6min remaining:  3.2min\n"
     ]
    },
    {
     "name": "stdout",
     "output_type": "stream",
     "text": [
      "done!\n"
     ]
    },
    {
     "name": "stderr",
     "output_type": "stream",
     "text": [
      "[Parallel(n_jobs=6)]: Done  12 out of  12 | elapsed:  9.6min finished\n"
     ]
    }
   ],
   "source": [
    "for sub in subs:\n",
    "    for ses in sess[sub]:\n",
    "        print('now computing %s for sub %s, ses %s'%(dtype,sub,ses))\n",
    "\n",
    "        sj_out_dir = os.path.join(stand_out_dir,'sub-%s'%sub)\n",
    "        if not os.path.isdir(sj_out_dir): os.mkdir(sj_out_dir)\n",
    "\n",
    "        sj_in_dir = os.path.join(in_dir,'sub-%s'%sub)\n",
    "        \n",
    "        fns = sorted(glob.glob(os.path.join(sj_in_dir,'sub-%s_ses-%s*bold_space-%s_preproc%s.nii.gz'%(sub,ses,space,in_postFix))))\n",
    "        \n",
    "        Parallel(n_jobs=6,verbose=9)(delayed(perform_standardization)(sj_in_dir,sj_out_dir,fn,dtype)  for fn in fns)\n",
    "\n",
    "print 'done!'"
   ]
  },
  {
   "cell_type": "code",
   "execution_count": null,
   "metadata": {
    "collapsed": true
   },
   "outputs": [],
   "source": []
  }
 ],
 "metadata": {
  "kernelspec": {
   "display_name": "Python [analysis]",
   "language": "python",
   "name": "Python [analysis]"
  },
  "language_info": {
   "codemirror_mode": {
    "name": "ipython",
    "version": 2
   },
   "file_extension": ".py",
   "mimetype": "text/x-python",
   "name": "python",
   "nbconvert_exporter": "python",
   "pygments_lexer": "ipython2",
   "version": "2.7.12"
  }
 },
 "nbformat": 4,
 "nbformat_minor": 0
}
