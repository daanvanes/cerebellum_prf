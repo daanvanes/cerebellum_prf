{
 "cells": [
  {
   "cell_type": "markdown",
   "metadata": {},
   "source": [
    "# now that spatial alignment steps are done, we can smooth over space"
   ]
  },
  {
   "cell_type": "code",
   "execution_count": 4,
   "metadata": {
    "collapsed": false
   },
   "outputs": [],
   "source": [
    "import os\n",
    "import nibabel as nb\n",
    "from joblib import Parallel, delayed\n",
    "import glob\n",
    "from nilearn import image"
   ]
  },
  {
   "cell_type": "code",
   "execution_count": 5,
   "metadata": {
    "collapsed": true
   },
   "outputs": [],
   "source": [
    "# setup dirs\n",
    "home_dir = '/home/shared/2018/visual/cerebellum_prf/'\n",
    "der_dir = os.path.join(home_dir,'derivatives')\n",
    "out_dir = os.path.join(home_dir,'derivatives','pp')\n",
    "res_out_dir = os.path.join(out_dir,'res')\n",
    "\n",
    "# setup subs\n",
    "subs = ['02']#,'03']\n",
    "sess = {\n",
    "    '01':['01','03','02'],\n",
    "    '02':['01','02','03','04'],\n",
    "    '03':['01','02','03']\n",
    "}\n",
    "space = 'MNI152NLin2009cAsym' # 'T1w' \n",
    "\n",
    "k = 3 # smoothing kernel in mm"
   ]
  },
  {
   "cell_type": "code",
   "execution_count": 6,
   "metadata": {
    "collapsed": true
   },
   "outputs": [],
   "source": [
    "def perform_smoothing(fn,k):\n",
    "\n",
    "    out_fn = fn.replace('.nii.gz','_smoothed.nii.gz')\n",
    "    if not os.path.isfile(out_fn):\n",
    "        img = nb.load(fn)\n",
    "        smoothed_img = image.smooth_img(img, k)\n",
    "        nb.save(smoothed_img,out_fn)\n",
    "                "
   ]
  },
  {
   "cell_type": "code",
   "execution_count": 7,
   "metadata": {
    "collapsed": false
   },
   "outputs": [
    {
     "name": "stdout",
     "output_type": "stream",
     "text": [
      "now smoothing images from sub 02, ses 01 with 3.0 mm kernel\n"
     ]
    },
    {
     "name": "stderr",
     "output_type": "stream",
     "text": [
      "[Parallel(n_jobs=5)]: Using backend LokyBackend with 5 concurrent workers.\n",
      "[Parallel(n_jobs=5)]: Done   6 out of  13 | elapsed:  1.9min remaining:  2.2min\n",
      "[Parallel(n_jobs=5)]: Done   8 out of  13 | elapsed:  1.9min remaining:  1.2min\n",
      "[Parallel(n_jobs=5)]: Done  10 out of  13 | elapsed:  1.9min remaining:   34.6s\n",
      "[Parallel(n_jobs=5)]: Done  13 out of  13 | elapsed:  2.7min finished\n",
      "[Parallel(n_jobs=5)]: Using backend LokyBackend with 5 concurrent workers.\n"
     ]
    },
    {
     "name": "stdout",
     "output_type": "stream",
     "text": [
      "now smoothing images from sub 02, ses 02 with 3.0 mm kernel\n"
     ]
    },
    {
     "name": "stderr",
     "output_type": "stream",
     "text": [
      "[Parallel(n_jobs=5)]: Done   2 out of   8 | elapsed:   58.1s remaining:  2.9min\n",
      "[Parallel(n_jobs=5)]: Done   3 out of   8 | elapsed:   58.1s remaining:  1.6min\n",
      "[Parallel(n_jobs=5)]: Done   4 out of   8 | elapsed:   58.2s remaining:   58.2s\n",
      "[Parallel(n_jobs=5)]: Done   5 out of   8 | elapsed:   58.4s remaining:   35.0s\n",
      "[Parallel(n_jobs=5)]: Done   6 out of   8 | elapsed:  1.9min remaining:   37.8s\n",
      "[Parallel(n_jobs=5)]: Done   8 out of   8 | elapsed:  2.0min remaining:    0.0s\n",
      "[Parallel(n_jobs=5)]: Done   8 out of   8 | elapsed:  2.0min finished\n",
      "[Parallel(n_jobs=5)]: Using backend LokyBackend with 5 concurrent workers.\n"
     ]
    },
    {
     "name": "stdout",
     "output_type": "stream",
     "text": [
      "now smoothing images from sub 02, ses 03 with 3.0 mm kernel\n"
     ]
    },
    {
     "name": "stderr",
     "output_type": "stream",
     "text": [
      "[Parallel(n_jobs=5)]: Done   3 out of  10 | elapsed:   58.8s remaining:  2.3min\n",
      "[Parallel(n_jobs=5)]: Done   5 out of  10 | elapsed:   59.3s remaining:   59.3s\n",
      "[Parallel(n_jobs=5)]: Done   7 out of  10 | elapsed:  1.9min remaining:   49.3s\n",
      "[Parallel(n_jobs=5)]: Done  10 out of  10 | elapsed:  1.9min finished\n",
      "[Parallel(n_jobs=5)]: Using backend LokyBackend with 5 concurrent workers.\n"
     ]
    },
    {
     "name": "stdout",
     "output_type": "stream",
     "text": [
      "now smoothing images from sub 02, ses 04 with 3.0 mm kernel\n"
     ]
    },
    {
     "name": "stderr",
     "output_type": "stream",
     "text": [
      "[Parallel(n_jobs=5)]: Done   8 out of  15 | elapsed:  1.9min remaining:  1.7min\n",
      "[Parallel(n_jobs=5)]: Done  10 out of  15 | elapsed:  1.9min remaining:   58.2s\n",
      "[Parallel(n_jobs=5)]: Done  12 out of  15 | elapsed:  2.9min remaining:   42.8s\n",
      "[Parallel(n_jobs=5)]: Done  15 out of  15 | elapsed:  2.9min finished\n"
     ]
    }
   ],
   "source": [
    "# smooth files\n",
    "for sub in subs:\n",
    "    for ses in sess[sub]:\n",
    "        \n",
    "        print('now smoothing images from sub %s, ses %s with %.1f mm kernel'%(sub,ses,k))\n",
    "        sj_res_out_dir = os.path.join(res_out_dir,'sub-%s'%sub)\n",
    "        fns = sorted(glob.glob(os.path.join(sj_res_out_dir,'*sub-%s_ses-%s*bold_space-%s_preproc_resampled_fnirted.nii.gz'%(sub,ses,space))))\n",
    "\n",
    "        Parallel(n_jobs=5,verbose=9)(delayed(perform_smoothing)(fn,k)  for fn in fns)"
   ]
  },
  {
   "cell_type": "code",
   "execution_count": null,
   "metadata": {
    "collapsed": true
   },
   "outputs": [],
   "source": []
  }
 ],
 "metadata": {
  "kernelspec": {
   "display_name": "Python [analysis]",
   "language": "python",
   "name": "Python [analysis]"
  },
  "language_info": {
   "codemirror_mode": {
    "name": "ipython",
    "version": 2
   },
   "file_extension": ".py",
   "mimetype": "text/x-python",
   "name": "python",
   "nbconvert_exporter": "python",
   "pygments_lexer": "ipython2",
   "version": "2.7.12"
  }
 },
 "nbformat": 4,
 "nbformat_minor": 0
}
